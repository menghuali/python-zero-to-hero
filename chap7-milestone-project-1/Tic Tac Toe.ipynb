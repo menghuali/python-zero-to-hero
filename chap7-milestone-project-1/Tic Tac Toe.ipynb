{
 "cells": [
  {
   "cell_type": "code",
   "execution_count": 1,
   "id": "b1a66be4",
   "metadata": {},
   "outputs": [],
   "source": [
    "def start(msg):\n",
    "    print(msg)\n",
    "    global matrix\n",
    "    matrix = [' ', ' ', ' ', ' ', ' ', ' ', ' ', ' ', ' ']\n",
    "    global prompts\n",
    "    prompts = ['0','1','2','3','4','5','6','7','8']\n",
    "    \n",
    "    global acceptable_choices\n",
    "    acceptable_choices = ['0','1','2','3','4','5','6','7','8','R','E']"
   ]
  },
  {
   "cell_type": "code",
   "execution_count": 2,
   "id": "ad79ba6c",
   "metadata": {},
   "outputs": [],
   "source": [
    "def set_players():\n",
    "    global players\n",
    "    players = ['O', 'X']\n",
    "    player1 = player_choice('Choose X or O for player1: ', players)\n",
    "    players.remove(player1)\n",
    "    player2 = players[0]\n",
    "    players = (player1, player2)"
   ]
  },
  {
   "cell_type": "code",
   "execution_count": 3,
   "id": "9064bb29",
   "metadata": {},
   "outputs": [],
   "source": [
    "def player_choice(prompt, acceptables):\n",
    "    choice = input(prompt).upper()\n",
    "    while choice not in acceptables:\n",
    "        choice = input(f'Invalid input. {prompt}')\n",
    "    return choice"
   ]
  },
  {
   "cell_type": "code",
   "execution_count": 4,
   "id": "948c127a",
   "metadata": {},
   "outputs": [],
   "source": [
    "def display_matrix():\n",
    "    print(f'\\n{matrix[0]}|{matrix[1]}|{matrix[2]}\\t\\t{prompts[0]}|{prompts[1]}|{prompts[2]}')\n",
    "    print(f'{matrix[3]}|{matrix[4]}|{matrix[5]}\\t\\t{prompts[3]}|{prompts[4]}|{prompts[5]}')\n",
    "    print(f'{matrix[6]}|{matrix[7]}|{matrix[8]}\\t\\t{prompts[6]}|{prompts[7]}|{prompts[8]}\\n')"
   ]
  },
  {
   "cell_type": "code",
   "execution_count": 5,
   "id": "f10e6444",
   "metadata": {},
   "outputs": [],
   "source": [
    "def check_line_col(choice):\n",
    "    line = int(choice/3) * 3\n",
    "    col = choice%3\n",
    "    return (matrix[line] == matrix[line + 1] == matrix[line + 2]) or matrix[col] == matrix[col + 3] == matrix[col + 6]"
   ]
  },
  {
   "cell_type": "code",
   "execution_count": 6,
   "id": "3f68ca55",
   "metadata": {},
   "outputs": [],
   "source": [
    "def check_backward_diagonal(choice):\n",
    "    return choice in [0,4,8] and (matrix[0] == matrix[4] == matrix[8])"
   ]
  },
  {
   "cell_type": "code",
   "execution_count": 7,
   "id": "2b28d6ec",
   "metadata": {},
   "outputs": [],
   "source": [
    "def check_forward_diagonal(choice):\n",
    "    return choice in [2,4,6] and (matrix[2] == matrix[4] == matrix[6])"
   ]
  },
  {
   "cell_type": "code",
   "execution_count": 8,
   "id": "06ba8e10",
   "metadata": {},
   "outputs": [],
   "source": [
    "def check_winner(choice):\n",
    "    return check_line_col(choice) or check_backward_diagonal(choice) or check_forward_diagonal(choice)"
   ]
  },
  {
   "cell_type": "code",
   "execution_count": 9,
   "id": "8f46f581",
   "metadata": {},
   "outputs": [],
   "source": [
    "from IPython.display import clear_output\n",
    "def game():\n",
    "    set_players()\n",
    "    game_prompt = \"Choose available cell numbers from the right matrix. Enter E/e to exit game. Enter R/r to restart game.\"\n",
    "    start(f'Start game!\\n{game_prompt}')\n",
    "    counter = 0\n",
    "    while True:\n",
    "        display_matrix()\n",
    "        symbol = players[counter % 2]\n",
    "        if counter > 8:\n",
    "            clear_output()\n",
    "            display_matrix()\n",
    "            print('Game over, no winner.\\n\\n')\n",
    "            counter = 0\n",
    "            start(f'Restart game!\\n{game_prompt}')\n",
    "            continue\n",
    "        choice = player_choice(f'P{counter % 2 + 1} ({symbol}): ', acceptable_choices)\n",
    "        if choice == 'R':\n",
    "            counter = 0\n",
    "            clear_output()\n",
    "            start('Restart game!')\n",
    "            continue\n",
    "        elif choice == 'E':\n",
    "            break\n",
    "        else:\n",
    "            acceptable_choices.remove(choice)\n",
    "            choice = int(choice)\n",
    "            matrix[choice] = symbol\n",
    "            prompts[choice] = '.'\n",
    "            if check_winner(choice):\n",
    "                clear_output()\n",
    "                winner = players.index(symbol) + 1\n",
    "                display_matrix()\n",
    "                print(f'Player {winner} won!\\n')\n",
    "                counter = 0\n",
    "                start(f'Restart game!\\n{game_prompt}')\n",
    "                continue\n",
    "            clear_output()\n",
    "            counter += 1"
   ]
  },
  {
   "cell_type": "code",
   "execution_count": 10,
   "id": "ee5ed87d",
   "metadata": {},
   "outputs": [
    {
     "name": "stdout",
     "output_type": "stream",
     "text": [
      "Restart game!\n",
      "\n",
      " | | \t\t0|1|2\n",
      " | | \t\t3|4|5\n",
      " | | \t\t6|7|8\n",
      "\n",
      "P1 (X): e\n"
     ]
    }
   ],
   "source": [
    "game()"
   ]
  },
  {
   "cell_type": "code",
   "execution_count": null,
   "id": "11fbf243",
   "metadata": {},
   "outputs": [],
   "source": []
  }
 ],
 "metadata": {
  "kernelspec": {
   "display_name": "Python 3 (ipykernel)",
   "language": "python",
   "name": "python3"
  },
  "language_info": {
   "codemirror_mode": {
    "name": "ipython",
    "version": 3
   },
   "file_extension": ".py",
   "mimetype": "text/x-python",
   "name": "python",
   "nbconvert_exporter": "python",
   "pygments_lexer": "ipython3",
   "version": "3.9.13"
  }
 },
 "nbformat": 4,
 "nbformat_minor": 5
}
