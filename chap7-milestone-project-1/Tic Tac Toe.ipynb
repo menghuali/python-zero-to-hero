{
 "cells": [
  {
   "cell_type": "code",
   "execution_count": 1,
   "id": "b1a66be4",
   "metadata": {},
   "outputs": [],
   "source": [
    "def start(msg):\n",
    "    print(msg)\n",
    "    \n",
    "    global matrix\n",
    "    matrix = [' ', ' ', ' ', ' ', ' ', ' ', ' ', ' ', ' ']\n",
    "    \n",
    "    global acceptable_choices\n",
    "    acceptable_choices = list(map(lambda n: str(n), list(range(0, 9))))\n",
    "    acceptable_choices.append('R')\n",
    "    acceptable_choices.append('E')"
   ]
  },
  {
   "cell_type": "code",
   "execution_count": 2,
   "id": "ad79ba6c",
   "metadata": {},
   "outputs": [],
   "source": [
    "def players():\n",
    "    global players\n",
    "    players = ['O', 'X']\n",
    "    player1 = player_choice('Choose symbol for player1.', players)\n",
    "    players.remove(player1)\n",
    "    player2 = players[0]\n",
    "    players = [player1, player2]"
   ]
  },
  {
   "cell_type": "code",
   "execution_count": 3,
   "id": "9064bb29",
   "metadata": {},
   "outputs": [],
   "source": [
    "def player_choice(prompt, acceptables):\n",
    "    choice = input(f'{prompt} Acceptable: {acceptables}: ')\n",
    "    while choice not in acceptables:\n",
    "        choice = input(f'Invalid input. {prompt} Acceptable:  {acceptables}: ')\n",
    "    return choice"
   ]
  },
  {
   "cell_type": "code",
   "execution_count": 4,
   "id": "948c127a",
   "metadata": {},
   "outputs": [],
   "source": [
    "def display_matrix():\n",
    "    print(f'{matrix[0]}|{matrix[1]}|{matrix[2]}\\t\\t0|1|2')\n",
    "    print(f'{matrix[3]}|{matrix[4]}|{matrix[5]}\\t\\t3|4|5')\n",
    "    print(f'{matrix[6]}|{matrix[7]}|{matrix[8]}\\t\\t6|7|8\\n')"
   ]
  },
  {
   "cell_type": "code",
   "execution_count": 5,
   "id": "f10e6444",
   "metadata": {},
   "outputs": [],
   "source": [
    "def check_line_col(choice):\n",
    "    line = int(choice/3) * 3\n",
    "    col = choice%3\n",
    "    return (matrix[line] == matrix[line + 1] == matrix[line + 2]) or matrix[col] == matrix[col + 3] == matrix[col + 6]"
   ]
  },
  {
   "cell_type": "code",
   "execution_count": 6,
   "id": "3f68ca55",
   "metadata": {},
   "outputs": [],
   "source": [
    "def check_backward_diagonal(choice):\n",
    "    return choice in [0,4,8] and (matrix[0] == matrix[4] == matrix[8])"
   ]
  },
  {
   "cell_type": "code",
   "execution_count": 7,
   "id": "2b28d6ec",
   "metadata": {},
   "outputs": [],
   "source": [
    "def check_forward_diagonal(choice):\n",
    "    return choice in [2,4,6] and (matrix[2] == matrix[4] == matrix[6])"
   ]
  },
  {
   "cell_type": "code",
   "execution_count": 8,
   "id": "06ba8e10",
   "metadata": {},
   "outputs": [],
   "source": [
    "def check_winner(choice):\n",
    "    return check_line_col(choice) or check_backward_diagonal(choice) or check_forward_diagonal(choice)"
   ]
  },
  {
   "cell_type": "code",
   "execution_count": 9,
   "id": "8f46f581",
   "metadata": {},
   "outputs": [],
   "source": [
    "def game():\n",
    "    players()\n",
    "    start('Start game!')\n",
    "    counter = 0\n",
    "    while True:\n",
    "        display_matrix()\n",
    "        symbol = players[counter % 2]\n",
    "        if counter > 8:\n",
    "            print('Game over, no winner.')\n",
    "            counter = 0\n",
    "            start('Restart game!')\n",
    "            continue\n",
    "        choice = player_choice(f'Player {counter % 2 + 1} ({symbol}). E=Exit, R=Restart.', acceptable_choices)\n",
    "        if choice == 'R':\n",
    "            counter = 0\n",
    "            start('Restart game!')\n",
    "            continue\n",
    "        elif choice == 'E':\n",
    "            break\n",
    "        else:\n",
    "            acceptable_choices.remove(choice)\n",
    "            choice = int(choice)\n",
    "            matrix[choice] = symbol\n",
    "            if check_winner(choice):\n",
    "                winner = players.index(symbol) + 1\n",
    "                print(f'Player{winner} won!')\n",
    "                display_matrix()\n",
    "                counter = 0\n",
    "                start('Restart game!')\n",
    "                continue\n",
    "            counter += 1"
   ]
  },
  {
   "cell_type": "code",
   "execution_count": 10,
   "id": "ee5ed87d",
   "metadata": {},
   "outputs": [
    {
     "name": "stdout",
     "output_type": "stream",
     "text": [
      "Choose symbol for player1. Acceptable: ['O', 'X']: X\n",
      "Start game!\n",
      " | | \t\t0|1|2\n",
      " | | \t\t3|4|5\n",
      " | | \t\t6|7|8\n",
      "\n",
      "Player 1 (X). E=Exit, R=Restart. Acceptable: ['0', '1', '2', '3', '4', '5', '6', '7', '8', 'R', 'E']: 0\n",
      "X| | \t\t0|1|2\n",
      " | | \t\t3|4|5\n",
      " | | \t\t6|7|8\n",
      "\n",
      "Player 2 (O). E=Exit, R=Restart. Acceptable: ['1', '2', '3', '4', '5', '6', '7', '8', 'R', 'E']: 4\n",
      "X| | \t\t0|1|2\n",
      " |O| \t\t3|4|5\n",
      " | | \t\t6|7|8\n",
      "\n",
      "Player 1 (X). E=Exit, R=Restart. Acceptable: ['1', '2', '3', '5', '6', '7', '8', 'R', 'E']: 6\n",
      "X| | \t\t0|1|2\n",
      " |O| \t\t3|4|5\n",
      "X| | \t\t6|7|8\n",
      "\n",
      "Player 2 (O). E=Exit, R=Restart. Acceptable: ['1', '2', '3', '5', '7', '8', 'R', 'E']: 3\n",
      "X| | \t\t0|1|2\n",
      "O|O| \t\t3|4|5\n",
      "X| | \t\t6|7|8\n",
      "\n",
      "Player 1 (X). E=Exit, R=Restart. Acceptable: ['1', '2', '5', '7', '8', 'R', 'E']: 5\n",
      "X| | \t\t0|1|2\n",
      "O|O|X\t\t3|4|5\n",
      "X| | \t\t6|7|8\n",
      "\n",
      "Player 2 (O). E=Exit, R=Restart. Acceptable: ['1', '2', '7', '8', 'R', 'E']: 1\n",
      "X|O| \t\t0|1|2\n",
      "O|O|X\t\t3|4|5\n",
      "X| | \t\t6|7|8\n",
      "\n",
      "Player 1 (X). E=Exit, R=Restart. Acceptable: ['2', '7', '8', 'R', 'E']: 7\n",
      "X|O| \t\t0|1|2\n",
      "O|O|X\t\t3|4|5\n",
      "X|X| \t\t6|7|8\n",
      "\n",
      "Player 2 (O). E=Exit, R=Restart. Acceptable: ['2', '8', 'R', 'E']: 8\n",
      "X|O| \t\t0|1|2\n",
      "O|O|X\t\t3|4|5\n",
      "X|X|O\t\t6|7|8\n",
      "\n",
      "Player 1 (X). E=Exit, R=Restart. Acceptable: ['2', 'R', 'E']: 2\n",
      "X|O|X\t\t0|1|2\n",
      "O|O|X\t\t3|4|5\n",
      "X|X|O\t\t6|7|8\n",
      "\n",
      "Game over, no winner.\n",
      "Restart game!\n",
      " | | \t\t0|1|2\n",
      " | | \t\t3|4|5\n",
      " | | \t\t6|7|8\n",
      "\n",
      "Player 1 (X). E=Exit, R=Restart. Acceptable: ['0', '1', '2', '3', '4', '5', '6', '7', '8', 'R', 'E']: E\n"
     ]
    }
   ],
   "source": [
    "game()"
   ]
  },
  {
   "cell_type": "code",
   "execution_count": null,
   "id": "11fbf243",
   "metadata": {},
   "outputs": [],
   "source": []
  }
 ],
 "metadata": {
  "kernelspec": {
   "display_name": "Python 3 (ipykernel)",
   "language": "python",
   "name": "python3"
  },
  "language_info": {
   "codemirror_mode": {
    "name": "ipython",
    "version": 3
   },
   "file_extension": ".py",
   "mimetype": "text/x-python",
   "name": "python",
   "nbconvert_exporter": "python",
   "pygments_lexer": "ipython3",
   "version": "3.9.13"
  }
 },
 "nbformat": 4,
 "nbformat_minor": 5
}
