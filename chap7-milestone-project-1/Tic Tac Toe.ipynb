{
 "cells": [
  {
   "cell_type": "code",
   "execution_count": 58,
   "id": "d7bed651",
   "metadata": {},
   "outputs": [],
   "source": [
    "matrix = None\n",
    "acceptable_choices = None\n",
    "players = None\n",
    "counter = None\n",
    "winner = None"
   ]
  },
  {
   "cell_type": "code",
   "execution_count": 33,
   "id": "9064bb29",
   "metadata": {},
   "outputs": [],
   "source": [
    "def player_choice(prompt, acceptables):\n",
    "    choice = input(f'{prompt} ({acceptables}): ')\n",
    "    while choice not in acceptables:\n",
    "        choice = input(f'Invalid input. {prompt} ({acceptables}): ')\n",
    "    return choice"
   ]
  },
  {
   "cell_type": "code",
   "execution_count": 57,
   "id": "b1a66be4",
   "metadata": {},
   "outputs": [],
   "source": [
    "def restart():\n",
    "    global matrix\n",
    "    matrix = [' ', ' ', ' ', ' ', ' ', ' ', ' ', ' ', ' ']\n",
    "    \n",
    "    global acceptable_choices\n",
    "    acceptable_choices = list(map(lambda n: str(n), list(range(1, 10))))\n",
    "    acceptable_choices.append('R')\n",
    "    acceptable_choices.append('E')\n",
    "    \n",
    "    global players\n",
    "    players = ['O', 'X']\n",
    "    player1 = user_choice('Choose symoble for player 1', players)\n",
    "    players.remove(player1)\n",
    "    player2 = players[0]\n",
    "    players = [player1, player2]\n",
    "    \n",
    "    global counter\n",
    "    counter = 0\n",
    "    \n",
    "    global winner\n",
    "    winner = None"
   ]
  },
  {
   "cell_type": "code",
   "execution_count": 54,
   "id": "948c127a",
   "metadata": {},
   "outputs": [],
   "source": [
    "def display_matrix():\n",
    "    global matrix\n",
    "    print(f'{matrix[0]}|{matrix[1]}|{matrix[2]}')\n",
    "    print(f'{matrix[3]}|{matrix[4]}|{matrix[5]}')\n",
    "    print(f'{matrix[6]}|{matrix[7]}|{matrix[8]}')"
   ]
  },
  {
   "cell_type": "code",
   "execution_count": 56,
   "id": "b77c13d2",
   "metadata": {},
   "outputs": [],
   "source": [
    "def replace_player_choice(choice):\n",
    "    global counter\n",
    "    global matrix\n",
    "    global symbols\n",
    "    matrix[choice] = symbols[counter % 2]\n",
    "    counter += 1"
   ]
  },
  {
   "cell_type": "code",
   "execution_count": null,
   "id": "90c85b73",
   "metadata": {},
   "outputs": [],
   "source": [
    "def check_winner(choice):\n",
    "    global matrix\n",
    "    if choice == '0':\n",
    "        if (matrix[0] == matrix[]) \n",
    "    "
   ]
  },
  {
   "cell_type": "code",
   "execution_count": null,
   "id": "048b1448",
   "metadata": {},
   "outputs": [],
   "source": [
    "def is_same(a, b, c):\n",
    "    "
   ]
  }
 ],
 "metadata": {
  "kernelspec": {
   "display_name": "Python 3 (ipykernel)",
   "language": "python",
   "name": "python3"
  },
  "language_info": {
   "codemirror_mode": {
    "name": "ipython",
    "version": 3
   },
   "file_extension": ".py",
   "mimetype": "text/x-python",
   "name": "python",
   "nbconvert_exporter": "python",
   "pygments_lexer": "ipython3",
   "version": "3.9.13"
  }
 },
 "nbformat": 4,
 "nbformat_minor": 5
}
