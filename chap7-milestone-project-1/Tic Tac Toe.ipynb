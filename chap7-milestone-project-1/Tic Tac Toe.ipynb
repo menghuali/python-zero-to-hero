{
 "cells": [
  {
   "cell_type": "code",
   "execution_count": 106,
   "id": "d7bed651",
   "metadata": {},
   "outputs": [],
   "source": [
    "matrix = [[' ', ' ', ' '], [' ', ' ', ' '], [' ', ' ', ' ']]"
   ]
  },
  {
   "cell_type": "code",
   "execution_count": 107,
   "id": "948c127a",
   "metadata": {},
   "outputs": [],
   "source": [
    "def display(matrix):\n",
    "    for row in matrix:\n",
    "        print(f'{row[0]}|{row[1]}|{row[2]}')"
   ]
  },
  {
   "cell_type": "code",
   "execution_count": 108,
   "id": "79a5024a",
   "metadata": {},
   "outputs": [
    {
     "name": "stdout",
     "output_type": "stream",
     "text": [
      " | | \n",
      " | | \n",
      " | | \n"
     ]
    }
   ],
   "source": [
    "display(matrix)"
   ]
  },
  {
   "cell_type": "code",
   "execution_count": 52,
   "id": "9064bb29",
   "metadata": {},
   "outputs": [],
   "source": [
    "def user_choice():\n",
    "    acceptable = list(map(lambda n: str(n), list(range(1, 10))))\n",
    "    choice = input(\"Enter a number (1-9): \")\n",
    "    while choice not in acceptable:\n",
    "        choice = input(\"Invalid input. Enter a number (1-9): \")\n",
    "        \n",
    "    return int(choice)"
   ]
  },
  {
   "cell_type": "code",
   "execution_count": 54,
   "id": "029c1303",
   "metadata": {},
   "outputs": [
    {
     "name": "stdout",
     "output_type": "stream",
     "text": [
      "Enter a number (1-9): 12\n",
      "Invalid input. Enter a number (1-9): two\n",
      "Invalid input. Enter a number (1-9): ~\n",
      "Invalid input. Enter a number (1-9): 2\n"
     ]
    },
    {
     "data": {
      "text/plain": [
       "2"
      ]
     },
     "execution_count": 54,
     "metadata": {},
     "output_type": "execute_result"
    }
   ],
   "source": [
    "user_choice()"
   ]
  },
  {
   "cell_type": "code",
   "execution_count": 109,
   "id": "7769db0b",
   "metadata": {},
   "outputs": [],
   "source": [
    "def update_matrix(i, value):\n",
    "    y = int((i - 1)/3)\n",
    "    x = (i-1)%3\n",
    "    matrix[y][x] = value"
   ]
  },
  {
   "cell_type": "code",
   "execution_count": 114,
   "id": "16b50287",
   "metadata": {},
   "outputs": [
    {
     "name": "stdout",
     "output_type": "stream",
     "text": [
      "x|x| \n",
      " | |x\n",
      " | |o\n"
     ]
    }
   ],
   "source": [
    "update_matrix(9, 'o')\n",
    "display(matrix)"
   ]
  },
  {
   "cell_type": "code",
   "execution_count": 81,
   "id": "6699342d",
   "metadata": {},
   "outputs": [
    {
     "name": "stdout",
     "output_type": "stream",
     "text": [
      "2,2\n"
     ]
    }
   ],
   "source": [
    "i = 9\n",
    "y = int((i - 1)/3)\n",
    "x = (i-1)%3\n",
    "\n",
    "print(f'{y},{x}')"
   ]
  },
  {
   "cell_type": "code",
   "execution_count": null,
   "id": "b77c13d2",
   "metadata": {},
   "outputs": [],
   "source": []
  }
 ],
 "metadata": {
  "kernelspec": {
   "display_name": "Python 3 (ipykernel)",
   "language": "python",
   "name": "python3"
  },
  "language_info": {
   "codemirror_mode": {
    "name": "ipython",
    "version": 3
   },
   "file_extension": ".py",
   "mimetype": "text/x-python",
   "name": "python",
   "nbconvert_exporter": "python",
   "pygments_lexer": "ipython3",
   "version": "3.9.13"
  }
 },
 "nbformat": 4,
 "nbformat_minor": 5
}
