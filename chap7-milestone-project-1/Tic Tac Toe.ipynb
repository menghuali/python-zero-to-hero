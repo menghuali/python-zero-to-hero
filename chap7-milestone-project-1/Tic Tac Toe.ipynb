{
 "cells": [
  {
   "cell_type": "code",
   "execution_count": 51,
   "id": "b1a66be4",
   "metadata": {},
   "outputs": [],
   "source": [
    "def restart():\n",
    "    global matrix\n",
    "    matrix = [' ', ' ', ' ', ' ', ' ', ' ', ' ', ' ', ' ']\n",
    "    \n",
    "    global acceptable_choices\n",
    "    acceptable_choices = list(map(lambda n: str(n), list(range(0, 9))))\n",
    "    acceptable_choices.append('R')\n",
    "    acceptable_choices.append('E')\n",
    "    \n",
    "    global players\n",
    "    players = ['O', 'X']\n",
    "    player1 = player_choice('Choose symoble for player 1', players)\n",
    "    players.remove(player1)\n",
    "    player2 = players[0]\n",
    "    players = [player1, player2]\n",
    "    \n",
    "    print('Start game!')"
   ]
  },
  {
   "cell_type": "code",
   "execution_count": 5,
   "id": "9064bb29",
   "metadata": {},
   "outputs": [],
   "source": [
    "def player_choice(prompt, acceptables):\n",
    "    choice = input(f'{prompt} ({acceptables}): ')\n",
    "    while choice not in acceptables:\n",
    "        choice = input(f'Invalid input. {prompt} ({acceptables}): ')\n",
    "    return choice"
   ]
  },
  {
   "cell_type": "code",
   "execution_count": 6,
   "id": "948c127a",
   "metadata": {},
   "outputs": [],
   "source": [
    "def display_matrix():\n",
    "    global matrix\n",
    "    print(f'{matrix[0]}|{matrix[1]}|{matrix[2]}')\n",
    "    print(f'{matrix[3]}|{matrix[4]}|{matrix[5]}')\n",
    "    print(f'{matrix[6]}|{matrix[7]}|{matrix[8]}')"
   ]
  },
  {
   "cell_type": "code",
   "execution_count": 45,
   "id": "048b1448",
   "metadata": {},
   "outputs": [],
   "source": [
    "def is_line_same(line, matrix):\n",
    "    first_cell = line * 3\n",
    "    return matrix[first_cell] == matrix[first_cell + 1] == matrix[first_cell + 2]"
   ]
  },
  {
   "cell_type": "code",
   "execution_count": 46,
   "id": "df136a9c",
   "metadata": {},
   "outputs": [],
   "source": [
    "def is_col_same(col, matrix):\n",
    "    return matrix[col] == matrix[col + 3] == matrix[col + 6]"
   ]
  },
  {
   "cell_type": "code",
   "execution_count": 10,
   "id": "3f68ca55",
   "metadata": {},
   "outputs": [],
   "source": [
    "def is_backward_diagonal_same(matrix):\n",
    "    return matrix[0] == matrix[4] == matrix[8]"
   ]
  },
  {
   "cell_type": "code",
   "execution_count": 11,
   "id": "2b28d6ec",
   "metadata": {},
   "outputs": [],
   "source": [
    "def is_forward_diagonal_same(matrix):\n",
    "    return matrix[2] == matrix[4] == matrix[6]"
   ]
  },
  {
   "cell_type": "code",
   "execution_count": 42,
   "id": "90c85b73",
   "metadata": {
    "scrolled": true
   },
   "outputs": [],
   "source": [
    "def check_winner(choice):\n",
    "    if choice == None:\n",
    "        return False\n",
    "    \n",
    "    global matrix\n",
    "    same = False\n",
    "    if choice == 4:\n",
    "        same = is_backward_diagonal_same(matrix) or is_forward_diagonal_same(matrix)\n",
    "    elif choice in [0, 8]:\n",
    "        same = is_backward_diagonal_same(matrix)\n",
    "    elif choice in [2, 6]:\n",
    "        same = is_forward_diagonal_same(matrix)\n",
    "    \n",
    "    if same:\n",
    "        return True\n",
    "    else:\n",
    "        line = int(choice / 3)\n",
    "        col = choice % 3\n",
    "        return is_line_same(line, matrix) or is_col_same(col, matrix)"
   ]
  },
  {
   "cell_type": "code",
   "execution_count": 49,
   "id": "8f46f581",
   "metadata": {},
   "outputs": [],
   "source": [
    "def game():\n",
    "    restart()\n",
    "    counter = 0\n",
    "    choice = None\n",
    "    has_winner = False\n",
    "    while not has_winner:\n",
    "        display_matrix()\n",
    "        print('')\n",
    "        if counter > 8:\n",
    "            print('Game over, no winner.')\n",
    "            break\n",
    "        symbol = players[counter % 2]\n",
    "        choice = player_choice(f'Player {counter % 2 + 1} ({symbol}). E=Exit, R=Restart', acceptable_choices)\n",
    "        if choice == 'R':\n",
    "            counter = 0\n",
    "            choice = None\n",
    "            continue\n",
    "        elif choice == 'E':\n",
    "            break\n",
    "        else:\n",
    "            choice = int(choice)\n",
    "            matrix[choice] = symbol\n",
    "            has_winner = check_winner(choice)\n",
    "            if has_winner:\n",
    "                winner = players.index(symbol) + 1\n",
    "                print(f'Player{winner} won!')\n",
    "                display_matrix()\n",
    "                break;\n",
    "            counter += 1"
   ]
  },
  {
   "cell_type": "code",
   "execution_count": 52,
   "id": "ee5ed87d",
   "metadata": {},
   "outputs": [
    {
     "name": "stdout",
     "output_type": "stream",
     "text": [
      "Choose symoble for player 1 (['O', 'X']): X\n",
      "Start game!\n",
      " | | \n",
      " | | \n",
      " | | \n",
      "\n",
      "Player 1 (X). E=Exit, R=Restart (['0', '1', '2', '3', '4', '5', '6', '7', '8', 'R', 'E']): 4\n",
      "***********0False\n",
      " | | \n",
      " |X| \n",
      " | | \n",
      "\n",
      "Player 2 (O). E=Exit, R=Restart (['0', '1', '2', '3', '4', '5', '6', '7', '8', 'R', 'E']): 0\n",
      "O| | \n",
      " |X| \n",
      " | | \n",
      "\n",
      "Player 1 (X). E=Exit, R=Restart (['0', '1', '2', '3', '4', '5', '6', '7', '8', 'R', 'E']): 2\n",
      "O| |X\n",
      " |X| \n",
      " | | \n",
      "\n",
      "Player 2 (O). E=Exit, R=Restart (['0', '1', '2', '3', '4', '5', '6', '7', '8', 'R', 'E']): 6\n",
      "O| |X\n",
      " |X| \n",
      "O| | \n",
      "\n",
      "Player 1 (X). E=Exit, R=Restart (['0', '1', '2', '3', '4', '5', '6', '7', '8', 'R', 'E']): 3\n",
      "O| |X\n",
      "X|X| \n",
      "O| | \n",
      "\n",
      "Player 2 (O). E=Exit, R=Restart (['0', '1', '2', '3', '4', '5', '6', '7', '8', 'R', 'E']): 5\n",
      "O| |X\n",
      "X|X|O\n",
      "O| | \n",
      "\n",
      "Player 1 (X). E=Exit, R=Restart (['0', '1', '2', '3', '4', '5', '6', '7', '8', 'R', 'E']): 1\n",
      "O|X|X\n",
      "X|X|O\n",
      "O| | \n",
      "\n",
      "Player 2 (O). E=Exit, R=Restart (['0', '1', '2', '3', '4', '5', '6', '7', '8', 'R', 'E']): 7\n",
      "O|X|X\n",
      "X|X|O\n",
      "O|O| \n",
      "\n",
      "Player 1 (X). E=Exit, R=Restart (['0', '1', '2', '3', '4', '5', '6', '7', '8', 'R', 'E']): 8\n",
      "O|X|X\n",
      "X|X|O\n",
      "O|O|X\n",
      "\n",
      "Game over, no winner.\n"
     ]
    }
   ],
   "source": [
    "game()"
   ]
  },
  {
   "cell_type": "code",
   "execution_count": null,
   "id": "11fbf243",
   "metadata": {},
   "outputs": [],
   "source": []
  }
 ],
 "metadata": {
  "kernelspec": {
   "display_name": "Python 3 (ipykernel)",
   "language": "python",
   "name": "python3"
  },
  "language_info": {
   "codemirror_mode": {
    "name": "ipython",
    "version": 3
   },
   "file_extension": ".py",
   "mimetype": "text/x-python",
   "name": "python",
   "nbconvert_exporter": "python",
   "pygments_lexer": "ipython3",
   "version": "3.9.13"
  }
 },
 "nbformat": 4,
 "nbformat_minor": 5
}
