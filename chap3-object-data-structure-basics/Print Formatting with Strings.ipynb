{
 "cells": [
  {
   "cell_type": "markdown",
   "id": "fac8e82f",
   "metadata": {},
   "source": [
    "# String.format"
   ]
  },
  {
   "cell_type": "code",
   "execution_count": 1,
   "id": "d714a73a",
   "metadata": {},
   "outputs": [
    {
     "name": "stdout",
     "output_type": "stream",
     "text": [
      "This is a string INSERTED\n"
     ]
    }
   ],
   "source": [
    "print('This is a string {}'.format('INSERTED'))"
   ]
  },
  {
   "cell_type": "code",
   "execution_count": 2,
   "id": "9bd26e86",
   "metadata": {},
   "outputs": [
    {
     "data": {
      "text/plain": [
       "'This is a string INSERTED'"
      ]
     },
     "execution_count": 2,
     "metadata": {},
     "output_type": "execute_result"
    }
   ],
   "source": [
    "'This is a string {}'.format('INSERTED')"
   ]
  },
  {
   "cell_type": "code",
   "execution_count": 3,
   "id": "2d57da4f",
   "metadata": {},
   "outputs": [
    {
     "data": {
      "text/plain": [
       "'The fox brown quick'"
      ]
     },
     "execution_count": 3,
     "metadata": {},
     "output_type": "execute_result"
    }
   ],
   "source": [
    "'The {} {} {}'.format('fox', 'brown', 'quick')"
   ]
  },
  {
   "cell_type": "code",
   "execution_count": 4,
   "id": "9d90b104",
   "metadata": {},
   "outputs": [
    {
     "data": {
      "text/plain": [
       "'The quick brown fox'"
      ]
     },
     "execution_count": 4,
     "metadata": {},
     "output_type": "execute_result"
    }
   ],
   "source": [
    "'The {2} {1} {0}'.format('fox', 'brown', 'quick')"
   ]
  },
  {
   "cell_type": "code",
   "execution_count": 5,
   "id": "36b54c96",
   "metadata": {},
   "outputs": [
    {
     "data": {
      "text/plain": [
       "'The fox fox fox'"
      ]
     },
     "execution_count": 5,
     "metadata": {},
     "output_type": "execute_result"
    }
   ],
   "source": [
    "'The {0} {0} {0}'.format('fox', 'brown', 'quick')"
   ]
  },
  {
   "cell_type": "code",
   "execution_count": 6,
   "id": "d22fc3eb",
   "metadata": {},
   "outputs": [
    {
     "data": {
      "text/plain": [
       "'The brown quick fox'"
      ]
     },
     "execution_count": 6,
     "metadata": {},
     "output_type": "execute_result"
    }
   ],
   "source": [
    "'The {color} {speed} {animal}'.format(animal='fox', speed='quick', color='brown')"
   ]
  },
  {
   "cell_type": "markdown",
   "id": "c973be10",
   "metadata": {},
   "source": [
    "# Float formatting\n",
    "### follows {value:width.precision _f_}"
   ]
  },
  {
   "cell_type": "code",
   "execution_count": 7,
   "id": "0126cf82",
   "metadata": {},
   "outputs": [],
   "source": [
    "result = 10000/77"
   ]
  },
  {
   "cell_type": "code",
   "execution_count": 8,
   "id": "b8e6bc0d",
   "metadata": {},
   "outputs": [
    {
     "name": "stdout",
     "output_type": "stream",
     "text": [
      "The result was 129.870\n"
     ]
    }
   ],
   "source": [
    "print('The result was {r:0.3f}'.format(r=result))"
   ]
  },
  {
   "cell_type": "markdown",
   "id": "ae7f640d",
   "metadata": {},
   "source": [
    "# f-formatting\n",
    "### f'{var1} {var2} {var3}'"
   ]
  },
  {
   "cell_type": "code",
   "execution_count": 9,
   "id": "6ce2a455",
   "metadata": {},
   "outputs": [],
   "source": [
    "name = 'Jose'"
   ]
  },
  {
   "cell_type": "code",
   "execution_count": 10,
   "id": "095b37c0",
   "metadata": {},
   "outputs": [
    {
     "data": {
      "text/plain": [
       "'Hello, his name is Jose'"
      ]
     },
     "execution_count": 10,
     "metadata": {},
     "output_type": "execute_result"
    }
   ],
   "source": [
    "f'Hello, his name is {name}'"
   ]
  },
  {
   "cell_type": "code",
   "execution_count": 11,
   "id": "b6e34d33",
   "metadata": {},
   "outputs": [],
   "source": [
    "maker = 'Toyota'\n",
    "color = 'blue'\n",
    "model = 'RAV4'"
   ]
  },
  {
   "cell_type": "code",
   "execution_count": 19,
   "id": "6727ba25",
   "metadata": {
    "scrolled": true
   },
   "outputs": [
    {
     "data": {
      "text/plain": [
       "'This is a blue Toyota RAV4'"
      ]
     },
     "execution_count": 19,
     "metadata": {},
     "output_type": "execute_result"
    }
   ],
   "source": [
    "f'This is a {color} {maker} {model}'"
   ]
  },
  {
   "cell_type": "code",
   "execution_count": 23,
   "id": "fc5e4af9",
   "metadata": {},
   "outputs": [],
   "source": [
    "r = 100/77"
   ]
  },
  {
   "cell_type": "code",
   "execution_count": 24,
   "id": "4bdfde40",
   "metadata": {},
   "outputs": [
    {
     "data": {
      "text/plain": [
       "'The result was 1.299'"
      ]
     },
     "execution_count": 24,
     "metadata": {},
     "output_type": "execute_result"
    }
   ],
   "source": [
    "f'The result was {r:0.3f}'"
   ]
  },
  {
   "cell_type": "code",
   "execution_count": null,
   "id": "f6e477f6",
   "metadata": {},
   "outputs": [],
   "source": []
  }
 ],
 "metadata": {
  "kernelspec": {
   "display_name": "Python 3 (ipykernel)",
   "language": "python",
   "name": "python3"
  },
  "language_info": {
   "codemirror_mode": {
    "name": "ipython",
    "version": 3
   },
   "file_extension": ".py",
   "mimetype": "text/x-python",
   "name": "python",
   "nbconvert_exporter": "python",
   "pygments_lexer": "ipython3",
   "version": "3.9.13"
  }
 },
 "nbformat": 4,
 "nbformat_minor": 5
}
