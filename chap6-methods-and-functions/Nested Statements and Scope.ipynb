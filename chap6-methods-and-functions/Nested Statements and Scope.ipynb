{
 "cells": [
  {
   "cell_type": "markdown",
   "id": "968a3435",
   "metadata": {},
   "source": [
    "### x inside function is local. Change it will NOT impact the global x"
   ]
  },
  {
   "cell_type": "code",
   "execution_count": 13,
   "id": "33df8ef7",
   "metadata": {},
   "outputs": [
    {
     "name": "stdout",
     "output_type": "stream",
     "text": [
      "X after assignment: 50\n"
     ]
    }
   ],
   "source": [
    "x = 50\n",
    "\n",
    "def func():\n",
    "    x = 200\n",
    "    print(f'X before assignment: {x}')"
   ]
  },
  {
   "cell_type": "code",
   "execution_count": 14,
   "id": "e2603559",
   "metadata": {},
   "outputs": [
    {
     "name": "stdout",
     "output_type": "stream",
     "text": [
      "X before assignment: 200\n"
     ]
    }
   ],
   "source": [
    "func()"
   ]
  },
  {
   "cell_type": "code",
   "execution_count": 15,
   "id": "27df8254",
   "metadata": {},
   "outputs": [
    {
     "name": "stdout",
     "output_type": "stream",
     "text": [
      "X after assignment: 50\n"
     ]
    }
   ],
   "source": [
    "print(f'X after assignment: {x}')"
   ]
  },
  {
   "cell_type": "markdown",
   "id": "5071c68e",
   "metadata": {},
   "source": [
    "### Use 'global' to use and change global variable from within a function"
   ]
  },
  {
   "cell_type": "code",
   "execution_count": 22,
   "id": "55c153cf",
   "metadata": {},
   "outputs": [],
   "source": [
    "def func():\n",
    "    global x\n",
    "    print(f'X before assignment: {x}')\n",
    "    x = 200"
   ]
  },
  {
   "cell_type": "code",
   "execution_count": 24,
   "id": "41268977",
   "metadata": {},
   "outputs": [
    {
     "name": "stdout",
     "output_type": "stream",
     "text": [
      "X before assignment: 50\n"
     ]
    }
   ],
   "source": [
    "func()"
   ]
  },
  {
   "cell_type": "code",
   "execution_count": 25,
   "id": "df7d37af",
   "metadata": {},
   "outputs": [
    {
     "name": "stdout",
     "output_type": "stream",
     "text": [
      "X after assignment: 200\n"
     ]
    }
   ],
   "source": [
    "print(f'X after assignment: {x}')"
   ]
  }
 ],
 "metadata": {
  "kernelspec": {
   "display_name": "Python 3 (ipykernel)",
   "language": "python",
   "name": "python3"
  },
  "language_info": {
   "codemirror_mode": {
    "name": "ipython",
    "version": 3
   },
   "file_extension": ".py",
   "mimetype": "text/x-python",
   "name": "python",
   "nbconvert_exporter": "python",
   "pygments_lexer": "ipython3",
   "version": "3.9.13"
  }
 },
 "nbformat": 4,
 "nbformat_minor": 5
}
