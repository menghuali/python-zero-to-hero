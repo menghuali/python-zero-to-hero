{
 "cells": [
  {
   "cell_type": "markdown",
   "id": "ed9d311e",
   "metadata": {},
   "source": [
    "#### Functions #1: print Hello World\n",
    "Write a function called myfunc that prints the string 'Hello World'."
   ]
  },
  {
   "cell_type": "code",
   "execution_count": 1,
   "id": "5c664dee",
   "metadata": {},
   "outputs": [],
   "source": [
    "def myfunc():\n",
    "    print('Hello World')"
   ]
  },
  {
   "cell_type": "markdown",
   "id": "afbe526b",
   "metadata": {},
   "source": [
    "#### Functions #2: print Hello Name\n",
    "Define a function called myfunc that takes in a name, and prints 'Hello Name' "
   ]
  },
  {
   "cell_type": "code",
   "execution_count": 2,
   "id": "44a442f4",
   "metadata": {},
   "outputs": [],
   "source": [
    "def myfunc(name):\n",
    "    print('My name is {}'.format(name))"
   ]
  },
  {
   "cell_type": "markdown",
   "id": "75a00070",
   "metadata": {},
   "source": [
    "#### Functions #3 - simple Boolean\n",
    "Define a function called myfunc that takes in a Boolean value (True or False). If True, return 'Hello', and if False, return 'Goodbye'"
   ]
  },
  {
   "cell_type": "code",
   "execution_count": 5,
   "id": "b46bdb41",
   "metadata": {},
   "outputs": [],
   "source": [
    "def myfunc(b):\n",
    "    if b:\n",
    "        print('Hello')\n",
    "    else:\n",
    "        print('Goodby')"
   ]
  },
  {
   "cell_type": "markdown",
   "id": "368bd420",
   "metadata": {},
   "source": [
    "#### Functions #4 - using Booleans\n",
    "Define a function called myfunc that takes three arguments, x, y and z.\n",
    "If z is True, return x.  If z is False, return y."
   ]
  },
  {
   "cell_type": "code",
   "execution_count": 7,
   "id": "2c99447f",
   "metadata": {},
   "outputs": [],
   "source": [
    "def myfunc(x,y,z):\n",
    "    if z:\n",
    "        return x\n",
    "    else:\n",
    "        return y"
   ]
  },
  {
   "cell_type": "markdown",
   "id": "3f263fe6",
   "metadata": {},
   "source": [
    "#### Functions #5: simple math\n",
    "Define a function called myfunc that takes in two arguments and returns their sum."
   ]
  },
  {
   "cell_type": "code",
   "execution_count": 8,
   "id": "bc98d7f0",
   "metadata": {},
   "outputs": [],
   "source": [
    "def myfunc(a,b):\n",
    "    return a + b"
   ]
  },
  {
   "cell_type": "markdown",
   "id": "29620087",
   "metadata": {},
   "source": [
    "#### Functions #6: is even\n",
    "Define a function called is_even that takes in one argument, and returns True if the passed-in value is even, False if it is not."
   ]
  },
  {
   "cell_type": "code",
   "execution_count": 9,
   "id": "4fa5d8c3",
   "metadata": {},
   "outputs": [],
   "source": [
    "def is_even(n):\n",
    "    return n%2 == 0"
   ]
  },
  {
   "cell_type": "markdown",
   "id": "5cacbb0c",
   "metadata": {},
   "source": [
    "#### Functions #7: is greater\n",
    "Define a function called is_greater that takes in two arguments, and returns True if the first value is greater than the second, False if it is less than or equal to the second."
   ]
  },
  {
   "cell_type": "code",
   "execution_count": 3,
   "id": "ce953cc2",
   "metadata": {},
   "outputs": [],
   "source": [
    "def is_greater(a,b):\n",
    "    return a > b\n"
   ]
  },
  {
   "cell_type": "markdown",
   "id": "ce54ab61",
   "metadata": {},
   "source": [
    "#### Functions #8: *args\n",
    "Define a function called myfunc that takes in an arbitrary number of arguments, and returns the sum of those arguments."
   ]
  },
  {
   "cell_type": "code",
   "execution_count": 4,
   "id": "d92e5aa5",
   "metadata": {},
   "outputs": [],
   "source": [
    "def myfunc(*nums):\n",
    "    return sum(nums)"
   ]
  },
  {
   "cell_type": "markdown",
   "id": "4ca544f2",
   "metadata": {},
   "source": [
    "#### Functions #9: pick evens\n",
    "Define a function called myfunc that takes in an arbitrary number of arguments, and returns a list containing only those arguments that are even."
   ]
  },
  {
   "cell_type": "code",
   "execution_count": 6,
   "id": "6261956e",
   "metadata": {},
   "outputs": [],
   "source": [
    "def myfunc(*nums):\n",
    "    return [n for n in nums if n%2 == 0]"
   ]
  },
  {
   "cell_type": "markdown",
   "id": "25abe7ba",
   "metadata": {},
   "source": [
    "#### Functions #10: skyline\n",
    "Define a function called myfunc that takes in a string, and returns a matching string where every even letter is uppercase, and every odd letter is lowercase. Assume that the incoming string only contains letters, and don't worry about numbers, spaces or punctuation. The output string can start with either an uppercase or lowercase letter, so long as letters alternate throughout the string."
   ]
  },
  {
   "cell_type": "code",
   "execution_count": 9,
   "id": "23e38a46",
   "metadata": {},
   "outputs": [],
   "source": [
    "def myfunc(text):\n",
    "    result = '';\n",
    "    for char in enumerate(text):\n",
    "        if char[0] % 2 == 0:\n",
    "            result += char[1].lower()\n",
    "        else:\n",
    "            result += char[1].upper()\n",
    "    return result"
   ]
  },
  {
   "cell_type": "code",
   "execution_count": null,
   "id": "ffaca298",
   "metadata": {},
   "outputs": [],
   "source": []
  }
 ],
 "metadata": {
  "kernelspec": {
   "display_name": "Python 3 (ipykernel)",
   "language": "python",
   "name": "python3"
  },
  "language_info": {
   "codemirror_mode": {
    "name": "ipython",
    "version": 3
   },
   "file_extension": ".py",
   "mimetype": "text/x-python",
   "name": "python",
   "nbconvert_exporter": "python",
   "pygments_lexer": "ipython3",
   "version": "3.9.13"
  }
 },
 "nbformat": 4,
 "nbformat_minor": 5
}
