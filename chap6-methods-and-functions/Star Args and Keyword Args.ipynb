{
 "cells": [
  {
   "cell_type": "markdown",
   "id": "df9fbf94",
   "metadata": {},
   "source": [
    "# Star Arguments"
   ]
  },
  {
   "cell_type": "code",
   "execution_count": 9,
   "id": "8cbca8ff",
   "metadata": {},
   "outputs": [],
   "source": [
    "def myfunc(*nums):\n",
    "    for n in nums:\n",
    "        print(n)\n",
    "    return sum(nums) * 0.05"
   ]
  },
  {
   "cell_type": "code",
   "execution_count": 10,
   "id": "408e0692",
   "metadata": {},
   "outputs": [
    {
     "name": "stdout",
     "output_type": "stream",
     "text": [
      "40\n",
      "60\n"
     ]
    },
    {
     "data": {
      "text/plain": [
       "5.0"
      ]
     },
     "execution_count": 10,
     "metadata": {},
     "output_type": "execute_result"
    }
   ],
   "source": [
    "myfunc(40,60)"
   ]
  },
  {
   "cell_type": "code",
   "execution_count": 11,
   "id": "225185bb",
   "metadata": {},
   "outputs": [
    {
     "name": "stdout",
     "output_type": "stream",
     "text": [
      "40\n",
      "60\n",
      "100\n"
     ]
    },
    {
     "data": {
      "text/plain": [
       "10.0"
      ]
     },
     "execution_count": 11,
     "metadata": {},
     "output_type": "execute_result"
    }
   ],
   "source": [
    "myfunc(40,60,100)"
   ]
  },
  {
   "cell_type": "markdown",
   "id": "e6f9a1cf",
   "metadata": {},
   "source": [
    "# Keyword Arguments"
   ]
  },
  {
   "cell_type": "code",
   "execution_count": 14,
   "id": "d309b27e",
   "metadata": {},
   "outputs": [],
   "source": [
    "def myfunc2(**inputs):\n",
    "    if 'fruit' in inputs:\n",
    "        fruit = inputs['fruit']\n",
    "        print(f'My fruit of choice is {fruit}')\n",
    "    else:\n",
    "        print('I did not find any fruit')"
   ]
  },
  {
   "cell_type": "code",
   "execution_count": 15,
   "id": "9e4bc308",
   "metadata": {},
   "outputs": [
    {
     "name": "stdout",
     "output_type": "stream",
     "text": [
      "My fruit of choice is apple\n"
     ]
    }
   ],
   "source": [
    "myfunc2(fruit='apple',veggie='lettuce')"
   ]
  },
  {
   "cell_type": "code",
   "execution_count": 16,
   "id": "1bd6a090",
   "metadata": {},
   "outputs": [
    {
     "name": "stdout",
     "output_type": "stream",
     "text": [
      "I did not find any fruit\n"
     ]
    }
   ],
   "source": [
    "myfunc2(drink='orange juice',veggie='lettuce')"
   ]
  },
  {
   "cell_type": "markdown",
   "id": "3883b99e",
   "metadata": {},
   "source": [
    "# Mix"
   ]
  },
  {
   "cell_type": "code",
   "execution_count": 20,
   "id": "0b6876de",
   "metadata": {},
   "outputs": [],
   "source": [
    "def myfunc3(*args, **kwargs):\n",
    "    print(args)\n",
    "    print(kwargs)\n",
    "    print(f'I would like {args[0]} {kwargs[\"food\"]}')"
   ]
  },
  {
   "cell_type": "code",
   "execution_count": 22,
   "id": "232bbeb8",
   "metadata": {},
   "outputs": [
    {
     "name": "stdout",
     "output_type": "stream",
     "text": [
      "(10, 20, 30)\n",
      "{'fruit': 'apples', 'food': 'eggs', 'animal': 'dog'}\n",
      "I would like 10 eggs\n"
     ]
    }
   ],
   "source": [
    "myfunc3(10,20,30,fruit='apples',food='eggs',animal='dog')"
   ]
  },
  {
   "cell_type": "code",
   "execution_count": null,
   "id": "b8f7d995",
   "metadata": {},
   "outputs": [],
   "source": []
  }
 ],
 "metadata": {
  "kernelspec": {
   "display_name": "Python 3 (ipykernel)",
   "language": "python",
   "name": "python3"
  },
  "language_info": {
   "codemirror_mode": {
    "name": "ipython",
    "version": 3
   },
   "file_extension": ".py",
   "mimetype": "text/x-python",
   "name": "python",
   "nbconvert_exporter": "python",
   "pygments_lexer": "ipython3",
   "version": "3.9.13"
  }
 },
 "nbformat": 4,
 "nbformat_minor": 5
}
