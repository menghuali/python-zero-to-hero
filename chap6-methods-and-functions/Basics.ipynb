{
 "cells": [
  {
   "cell_type": "code",
   "execution_count": 1,
   "id": "2205da73",
   "metadata": {},
   "outputs": [],
   "source": [
    "# Default argument defined\n",
    "def say_hello(name = 'Foo'):\n",
    "    print(f'Hello {name}')"
   ]
  },
  {
   "cell_type": "code",
   "execution_count": 2,
   "id": "b66781fc",
   "metadata": {},
   "outputs": [
    {
     "name": "stdout",
     "output_type": "stream",
     "text": [
      "Hello John\n"
     ]
    }
   ],
   "source": [
    "say_hello('John')"
   ]
  },
  {
   "cell_type": "code",
   "execution_count": 3,
   "id": "fccd3830",
   "metadata": {},
   "outputs": [
    {
     "name": "stdout",
     "output_type": "stream",
     "text": [
      "Hello Foo\n"
     ]
    }
   ],
   "source": [
    "say_hello()"
   ]
  },
  {
   "cell_type": "code",
   "execution_count": 4,
   "id": "c0f176ea",
   "metadata": {},
   "outputs": [],
   "source": [
    "def add(a, b):\n",
    "    return a + b;"
   ]
  },
  {
   "cell_type": "code",
   "execution_count": 5,
   "id": "11688a65",
   "metadata": {},
   "outputs": [
    {
     "data": {
      "text/plain": [
       "3"
      ]
     },
     "execution_count": 5,
     "metadata": {},
     "output_type": "execute_result"
    }
   ],
   "source": [
    "add(1, 2)"
   ]
  },
  {
   "cell_type": "code",
   "execution_count": 6,
   "id": "55425ddd",
   "metadata": {},
   "outputs": [
    {
     "data": {
      "text/plain": [
       "'12'"
      ]
     },
     "execution_count": 6,
     "metadata": {},
     "output_type": "execute_result"
    }
   ],
   "source": [
    "add('1', '2')"
   ]
  },
  {
   "cell_type": "code",
   "execution_count": 7,
   "id": "13a27cc2",
   "metadata": {},
   "outputs": [],
   "source": [
    "def is_even(n):\n",
    "    return n % 2 == 0;"
   ]
  },
  {
   "cell_type": "code",
   "execution_count": 8,
   "id": "0005cab7",
   "metadata": {},
   "outputs": [
    {
     "data": {
      "text/plain": [
       "True"
      ]
     },
     "execution_count": 8,
     "metadata": {},
     "output_type": "execute_result"
    }
   ],
   "source": [
    "is_even(2)"
   ]
  },
  {
   "cell_type": "code",
   "execution_count": 9,
   "id": "93f790af",
   "metadata": {},
   "outputs": [
    {
     "data": {
      "text/plain": [
       "False"
      ]
     },
     "execution_count": 9,
     "metadata": {},
     "output_type": "execute_result"
    }
   ],
   "source": [
    "is_even(3)"
   ]
  },
  {
   "cell_type": "code",
   "execution_count": 10,
   "id": "03d77679",
   "metadata": {},
   "outputs": [],
   "source": [
    "def has_even(nums):\n",
    "    for n in nums:\n",
    "        if n % 2 == 0:\n",
    "            return True\n",
    "    return False"
   ]
  },
  {
   "cell_type": "code",
   "execution_count": 11,
   "id": "4b548f1e",
   "metadata": {},
   "outputs": [
    {
     "data": {
      "text/plain": [
       "True"
      ]
     },
     "execution_count": 11,
     "metadata": {},
     "output_type": "execute_result"
    }
   ],
   "source": [
    "has_even([1, 2, 3])"
   ]
  },
  {
   "cell_type": "code",
   "execution_count": 12,
   "id": "d3498a65",
   "metadata": {},
   "outputs": [
    {
     "data": {
      "text/plain": [
       "False"
      ]
     },
     "execution_count": 12,
     "metadata": {},
     "output_type": "execute_result"
    }
   ],
   "source": [
    "has_even([1, 3, 5])"
   ]
  },
  {
   "cell_type": "code",
   "execution_count": 13,
   "id": "224b32d3",
   "metadata": {},
   "outputs": [],
   "source": [
    "def get_evens(nums):\n",
    "    return [n for n in nums if n%2 == 0]"
   ]
  },
  {
   "cell_type": "code",
   "execution_count": 14,
   "id": "6dc6d88f",
   "metadata": {},
   "outputs": [
    {
     "data": {
      "text/plain": [
       "[2, 4]"
      ]
     },
     "execution_count": 14,
     "metadata": {},
     "output_type": "execute_result"
    }
   ],
   "source": [
    "get_evens([1,2,3,4])"
   ]
  },
  {
   "cell_type": "code",
   "execution_count": 15,
   "id": "61bd8256",
   "metadata": {},
   "outputs": [
    {
     "data": {
      "text/plain": [
       "[]"
      ]
     },
     "execution_count": 15,
     "metadata": {},
     "output_type": "execute_result"
    }
   ],
   "source": [
    "get_evens([1,3,5])"
   ]
  },
  {
   "cell_type": "markdown",
   "id": "af0a5a94",
   "metadata": {},
   "source": [
    "## Handle tuples in function"
   ]
  },
  {
   "cell_type": "code",
   "execution_count": 16,
   "id": "99aab7fe",
   "metadata": {},
   "outputs": [],
   "source": [
    "work_hrs = [('Abby',100), ('Billy',400), ('Cathy',800)]"
   ]
  },
  {
   "cell_type": "code",
   "execution_count": 17,
   "id": "34e0b668",
   "metadata": {},
   "outputs": [],
   "source": [
    "def emp_of_mon(work_hrs):\n",
    "    max_hrs = 0\n",
    "    emp_name = ''\n",
    "    for wh in work_hrs:\n",
    "        if wh[1] > max_hrs:\n",
    "            emp_name = wh[0]\n",
    "            max_hrs = wh[1]\n",
    "    return (emp_name, max_hrs)"
   ]
  },
  {
   "cell_type": "code",
   "execution_count": 18,
   "id": "df503a57",
   "metadata": {},
   "outputs": [
    {
     "data": {
      "text/plain": [
       "('Cathy', 800)"
      ]
     },
     "execution_count": 18,
     "metadata": {},
     "output_type": "execute_result"
    }
   ],
   "source": [
    "t = emp_of_mon(work_hrs)\n",
    "t"
   ]
  },
  {
   "cell_type": "code",
   "execution_count": 19,
   "id": "7130b6e7",
   "metadata": {},
   "outputs": [],
   "source": [
    "def emp_of_mon2(work_hrs):\n",
    "    eom = work_hrs[0]\n",
    "    for wh in work_hrs:\n",
    "        if wh[1] > eom[1]:\n",
    "            eom = wh\n",
    "    return eom"
   ]
  },
  {
   "cell_type": "code",
   "execution_count": 20,
   "id": "1c2fa843",
   "metadata": {},
   "outputs": [],
   "source": [
    "name,hours = emp_of_mon2(work_hrs)"
   ]
  },
  {
   "cell_type": "code",
   "execution_count": 21,
   "id": "13fe9617",
   "metadata": {},
   "outputs": [
    {
     "data": {
      "text/plain": [
       "'Cathy'"
      ]
     },
     "execution_count": 21,
     "metadata": {},
     "output_type": "execute_result"
    }
   ],
   "source": [
    "name"
   ]
  },
  {
   "cell_type": "code",
   "execution_count": 22,
   "id": "27b98a2c",
   "metadata": {},
   "outputs": [
    {
     "data": {
      "text/plain": [
       "800"
      ]
     },
     "execution_count": 22,
     "metadata": {},
     "output_type": "execute_result"
    }
   ],
   "source": [
    "hours"
   ]
  },
  {
   "cell_type": "markdown",
   "id": "9f1041c5",
   "metadata": {},
   "source": [
    "## Functions interact with each other"
   ]
  },
  {
   "cell_type": "code",
   "execution_count": 23,
   "id": "99590c36",
   "metadata": {},
   "outputs": [],
   "source": [
    "example = [1,2,3,4,5,6,7]"
   ]
  },
  {
   "cell_type": "code",
   "execution_count": 24,
   "id": "ee788178",
   "metadata": {},
   "outputs": [],
   "source": [
    "from random import shuffle"
   ]
  },
  {
   "cell_type": "code",
   "execution_count": 25,
   "id": "6117b06f",
   "metadata": {},
   "outputs": [],
   "source": [
    "shuffle(example)"
   ]
  },
  {
   "cell_type": "code",
   "execution_count": 26,
   "id": "92de411e",
   "metadata": {},
   "outputs": [
    {
     "data": {
      "text/plain": [
       "[3, 6, 5, 4, 2, 7, 1]"
      ]
     },
     "execution_count": 26,
     "metadata": {},
     "output_type": "execute_result"
    }
   ],
   "source": [
    "example"
   ]
  },
  {
   "cell_type": "code",
   "execution_count": 27,
   "id": "05677f5f",
   "metadata": {},
   "outputs": [],
   "source": [
    "def shuffle_list(my_list):\n",
    "    shuffle(my_list)\n",
    "    return my_list"
   ]
  },
  {
   "cell_type": "code",
   "execution_count": 28,
   "id": "3b82435e",
   "metadata": {},
   "outputs": [],
   "source": [
    "shuffled = shuffle_list(example)"
   ]
  },
  {
   "cell_type": "code",
   "execution_count": 29,
   "id": "9d99d8d9",
   "metadata": {},
   "outputs": [
    {
     "data": {
      "text/plain": [
       "[4, 2, 7, 6, 5, 3, 1]"
      ]
     },
     "execution_count": 29,
     "metadata": {},
     "output_type": "execute_result"
    }
   ],
   "source": [
    "shuffled"
   ]
  },
  {
   "cell_type": "code",
   "execution_count": 30,
   "id": "7928b6ce",
   "metadata": {
    "scrolled": true
   },
   "outputs": [
    {
     "name": "stdout",
     "output_type": "stream",
     "text": [
      "['', '', '', 'O', '', '']\n",
      "['', 'O', '', '', '', '']\n",
      "['', '', '', 'O', '', '']\n",
      "['', '', '', 'O', '', '']\n",
      "['', 'O', '', '', '', '']\n",
      "['', '', '', 'O', '', '']\n",
      "['', '', '', '', '', 'O']\n",
      "['', '', 'O', '', '', '']\n",
      "['', '', '', '', '', 'O']\n",
      "['', '', '', '', 'O', '']\n",
      "['', '', '', '', 'O', '']\n",
      "['', 'O', '', '', '', '']\n",
      "['', '', '', 'O', '', '']\n",
      "['O', '', '', '', '', '']\n",
      "['', 'O', '', '', '', '']\n",
      "['', '', 'O', '', '', '']\n",
      "['', '', 'O', '', '', '']\n",
      "['', 'O', '', '', '', '']\n",
      "['', '', 'O', '', '', '']\n",
      "['', '', 'O', '', '', '']\n"
     ]
    }
   ],
   "source": [
    "my_list = ['','O','','','','']\n",
    "\n",
    "count = 0\n",
    "while count < 20:\n",
    "    shuffle_list(my_list)\n",
    "    print(my_list)\n",
    "    count += 1"
   ]
  },
  {
   "cell_type": "code",
   "execution_count": 31,
   "id": "a0f74ad3",
   "metadata": {},
   "outputs": [],
   "source": [
    "def guess():\n",
    "    guessed = ''\n",
    "    while guessed not in ['0', '1', '2']:\n",
    "        guessed = input('Pick a number: 0, 1, or 2: ')\n",
    "    return int(guessed)"
   ]
  },
  {
   "cell_type": "code",
   "execution_count": 32,
   "id": "7f25d253",
   "metadata": {},
   "outputs": [],
   "source": [
    "def play():\n",
    "    my_list = shuffle_list(['O',' ',' '])\n",
    "    guessed = guess()\n",
    "    if my_list[guessed] == 'O':\n",
    "        print('Correct!')\n",
    "    else:\n",
    "        print(f'Wrong guess! {my_list}')"
   ]
  },
  {
   "cell_type": "code",
   "execution_count": 33,
   "id": "a3af32a4",
   "metadata": {},
   "outputs": [],
   "source": [
    "def guess2(size):\n",
    "    guessed = ''\n",
    "    options = [str(x) for x in range(0,size)]\n",
    "    while guessed not in options:\n",
    "        guessed = input(f'Pick a number from {options}: ')\n",
    "    return int(guessed)"
   ]
  },
  {
   "cell_type": "code",
   "execution_count": 34,
   "id": "3ef34247",
   "metadata": {},
   "outputs": [
    {
     "name": "stdout",
     "output_type": "stream",
     "text": [
      "Pick a number from ['0', '1', '2', '3', '4']: 1\n"
     ]
    },
    {
     "data": {
      "text/plain": [
       "1"
      ]
     },
     "execution_count": 34,
     "metadata": {},
     "output_type": "execute_result"
    }
   ],
   "source": [
    "guess2(5)"
   ]
  },
  {
   "cell_type": "code",
   "execution_count": 35,
   "id": "6ac3d716",
   "metadata": {},
   "outputs": [],
   "source": [
    "def play2():\n",
    "    my_list = shuffle_list(['O',' ',' ',' ',' '])\n",
    "    count = 0\n",
    "    correct = False\n",
    "    while count < 3:\n",
    "        guessed = guess2(len(my_list))\n",
    "        if my_list[guessed] == 'O':\n",
    "            print('Correct!')\n",
    "            correct = True\n",
    "            break;\n",
    "        else:\n",
    "            print('Wrong!')\n",
    "        count += 1\n",
    "    if not correct:\n",
    "        print(my_list)"
   ]
  },
  {
   "cell_type": "code",
   "execution_count": 36,
   "id": "64fc7c57",
   "metadata": {},
   "outputs": [
    {
     "name": "stdout",
     "output_type": "stream",
     "text": [
      "Pick a number from ['0', '1', '2', '3', '4']: 1\n",
      "Wrong!\n",
      "Pick a number from ['0', '1', '2', '3', '4']: 2\n",
      "Correct!\n"
     ]
    }
   ],
   "source": [
    "play2()"
   ]
  },
  {
   "cell_type": "code",
   "execution_count": null,
   "id": "529cd42d",
   "metadata": {},
   "outputs": [],
   "source": []
  }
 ],
 "metadata": {
  "kernelspec": {
   "display_name": "Python 3 (ipykernel)",
   "language": "python",
   "name": "python3"
  },
  "language_info": {
   "codemirror_mode": {
    "name": "ipython",
    "version": 3
   },
   "file_extension": ".py",
   "mimetype": "text/x-python",
   "name": "python",
   "nbconvert_exporter": "python",
   "pygments_lexer": "ipython3",
   "version": "3.9.13"
  }
 },
 "nbformat": 4,
 "nbformat_minor": 5
}
