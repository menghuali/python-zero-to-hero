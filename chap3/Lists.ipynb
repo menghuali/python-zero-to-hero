{
 "cells": [
  {
   "cell_type": "code",
   "execution_count": 1,
   "id": "c5f9d9dd",
   "metadata": {},
   "outputs": [],
   "source": [
    "list1 = [1, 2, 3]"
   ]
  },
  {
   "cell_type": "code",
   "execution_count": 2,
   "id": "4c50e96f",
   "metadata": {},
   "outputs": [],
   "source": [
    "list2 = ['str1', 2, 3.3]"
   ]
  },
  {
   "cell_type": "code",
   "execution_count": 3,
   "id": "911616c1",
   "metadata": {},
   "outputs": [
    {
     "data": {
      "text/plain": [
       "3"
      ]
     },
     "execution_count": 3,
     "metadata": {},
     "output_type": "execute_result"
    }
   ],
   "source": [
    "len(list1)"
   ]
  },
  {
   "cell_type": "code",
   "execution_count": 4,
   "id": "05434ca1",
   "metadata": {},
   "outputs": [],
   "source": [
    "list1 = ['one', 'two', 'three']"
   ]
  },
  {
   "cell_type": "code",
   "execution_count": 5,
   "id": "b4876d58",
   "metadata": {},
   "outputs": [
    {
     "data": {
      "text/plain": [
       "'one'"
      ]
     },
     "execution_count": 5,
     "metadata": {},
     "output_type": "execute_result"
    }
   ],
   "source": [
    "list1[0]"
   ]
  },
  {
   "cell_type": "code",
   "execution_count": 6,
   "id": "bc39dcf8",
   "metadata": {},
   "outputs": [
    {
     "data": {
      "text/plain": [
       "['two', 'three']"
      ]
     },
     "execution_count": 6,
     "metadata": {},
     "output_type": "execute_result"
    }
   ],
   "source": [
    "list1[1:]"
   ]
  },
  {
   "cell_type": "code",
   "execution_count": 7,
   "id": "921bb65f",
   "metadata": {},
   "outputs": [],
   "source": [
    "list2 = ['four', 'five']"
   ]
  },
  {
   "cell_type": "markdown",
   "id": "6942bb7f",
   "metadata": {},
   "source": [
    "# Concatenate lists\n",
    "### Note: the original lists are NOT changed"
   ]
  },
  {
   "cell_type": "code",
   "execution_count": 8,
   "id": "8017ce2f",
   "metadata": {},
   "outputs": [
    {
     "data": {
      "text/plain": [
       "['one', 'two', 'three', 'four', 'five']"
      ]
     },
     "execution_count": 8,
     "metadata": {},
     "output_type": "execute_result"
    }
   ],
   "source": [
    "list1 + list2"
   ]
  },
  {
   "cell_type": "code",
   "execution_count": 9,
   "id": "5e6c5304",
   "metadata": {},
   "outputs": [
    {
     "data": {
      "text/plain": [
       "['four', 'five']"
      ]
     },
     "execution_count": 9,
     "metadata": {},
     "output_type": "execute_result"
    }
   ],
   "source": [
    "list2"
   ]
  },
  {
   "cell_type": "code",
   "execution_count": 10,
   "id": "b9a6c872",
   "metadata": {},
   "outputs": [
    {
     "data": {
      "text/plain": [
       "['one', 'two', 'three', 'four', 'five']"
      ]
     },
     "execution_count": 10,
     "metadata": {},
     "output_type": "execute_result"
    }
   ],
   "source": [
    "list3 = list1 + list2\n",
    "list3"
   ]
  },
  {
   "cell_type": "markdown",
   "id": "872ccbb2",
   "metadata": {},
   "source": [
    "# Manipulate list elements"
   ]
  },
  {
   "cell_type": "code",
   "execution_count": 11,
   "id": "42f4a488",
   "metadata": {},
   "outputs": [
    {
     "data": {
      "text/plain": [
       "['ONE', 'two', 'three', 'four', 'five']"
      ]
     },
     "execution_count": 11,
     "metadata": {},
     "output_type": "execute_result"
    }
   ],
   "source": [
    "list3[0] = 'ONE'\n",
    "list3"
   ]
  },
  {
   "cell_type": "code",
   "execution_count": 12,
   "id": "9d703196",
   "metadata": {},
   "outputs": [
    {
     "data": {
      "text/plain": [
       "['ONE', 'two', 'three', 'four', 'five', 'six']"
      ]
     },
     "execution_count": 12,
     "metadata": {},
     "output_type": "execute_result"
    }
   ],
   "source": [
    "list3.append('six')\n",
    "list3"
   ]
  },
  {
   "cell_type": "code",
   "execution_count": 13,
   "id": "7c968296",
   "metadata": {},
   "outputs": [
    {
     "data": {
      "text/plain": [
       "'six'"
      ]
     },
     "execution_count": 13,
     "metadata": {},
     "output_type": "execute_result"
    }
   ],
   "source": [
    "list3.pop()"
   ]
  },
  {
   "cell_type": "code",
   "execution_count": 14,
   "id": "88b3d412",
   "metadata": {},
   "outputs": [
    {
     "data": {
      "text/plain": [
       "['ONE', 'two', 'three', 'four', 'five']"
      ]
     },
     "execution_count": 14,
     "metadata": {},
     "output_type": "execute_result"
    }
   ],
   "source": [
    "list3"
   ]
  },
  {
   "cell_type": "code",
   "execution_count": 15,
   "id": "122d7743",
   "metadata": {},
   "outputs": [
    {
     "data": {
      "text/plain": [
       "'five'"
      ]
     },
     "execution_count": 15,
     "metadata": {},
     "output_type": "execute_result"
    }
   ],
   "source": [
    "popped = list3.pop()\n",
    "popped"
   ]
  },
  {
   "cell_type": "code",
   "execution_count": 18,
   "id": "511ca956",
   "metadata": {},
   "outputs": [
    {
     "data": {
      "text/plain": [
       "'three'"
      ]
     },
     "execution_count": 18,
     "metadata": {},
     "output_type": "execute_result"
    }
   ],
   "source": [
    "popped = list3.pop(2)\n",
    "popped"
   ]
  },
  {
   "cell_type": "code",
   "execution_count": 21,
   "id": "d50d2353",
   "metadata": {},
   "outputs": [
    {
     "data": {
      "text/plain": [
       "['ONE', 'two', 'four']"
      ]
     },
     "execution_count": 21,
     "metadata": {},
     "output_type": "execute_result"
    }
   ],
   "source": [
    "list3"
   ]
  },
  {
   "cell_type": "code",
   "execution_count": 23,
   "id": "0f5b2d01",
   "metadata": {},
   "outputs": [],
   "source": [
    "char_list = ['a', 'e', 'x', 'b', 'c']\n",
    "num_list = [4, 1 , 8, 3]"
   ]
  },
  {
   "cell_type": "markdown",
   "id": "98c80021",
   "metadata": {},
   "source": [
    "## Sort a list"
   ]
  },
  {
   "cell_type": "code",
   "execution_count": 24,
   "id": "accb2fef",
   "metadata": {},
   "outputs": [
    {
     "data": {
      "text/plain": [
       "['a', 'b', 'c', 'e', 'x']"
      ]
     },
     "execution_count": 24,
     "metadata": {},
     "output_type": "execute_result"
    }
   ],
   "source": [
    "char_list.sort()\n",
    "char_list"
   ]
  },
  {
   "cell_type": "markdown",
   "id": "9e532959",
   "metadata": {},
   "source": [
    "### But list.sort() returns NullType"
   ]
  },
  {
   "cell_type": "code",
   "execution_count": 26,
   "id": "514e0eba",
   "metadata": {},
   "outputs": [],
   "source": [
    "sorted_list = char_list.sort()\n",
    "sorted_list"
   ]
  },
  {
   "cell_type": "code",
   "execution_count": 29,
   "id": "5028555c",
   "metadata": {},
   "outputs": [
    {
     "data": {
      "text/plain": [
       "[8, 4, 3, 1]"
      ]
     },
     "execution_count": 29,
     "metadata": {},
     "output_type": "execute_result"
    }
   ],
   "source": [
    "num_list.sort()\n",
    "num_list.reverse()\n",
    "num_list"
   ]
  }
 ],
 "metadata": {
  "kernelspec": {
   "display_name": "Python 3 (ipykernel)",
   "language": "python",
   "name": "python3"
  },
  "language_info": {
   "codemirror_mode": {
    "name": "ipython",
    "version": 3
   },
   "file_extension": ".py",
   "mimetype": "text/x-python",
   "name": "python",
   "nbconvert_exporter": "python",
   "pygments_lexer": "ipython3",
   "version": "3.9.13"
  }
 },
 "nbformat": 4,
 "nbformat_minor": 5
}
