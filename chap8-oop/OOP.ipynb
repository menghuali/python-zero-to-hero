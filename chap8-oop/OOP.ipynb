{
 "cells": [
  {
   "cell_type": "markdown",
   "id": "c9ac7a18",
   "metadata": {},
   "source": [
    "# Basics"
   ]
  },
  {
   "cell_type": "code",
   "execution_count": 6,
   "id": "70f335ec",
   "metadata": {},
   "outputs": [],
   "source": [
    "class Dog():\n",
    "    \n",
    "    # CLASS OBJECT (STATIC) ATTRIBUTES, SAME FOR ANY INSTANCE\n",
    "    species = 'mammal'\n",
    "    \n",
    "    def __init__(self, breed, name, spots):\n",
    "        self.breed = breed\n",
    "        self.name = name\n",
    "        self.spots = spots # Expect bool\n",
    "    \n",
    "    # Method\n",
    "    def bark(self, number):\n",
    "        print(f'WOOF! My name is {self.name}. The number is {number}')"
   ]
  },
  {
   "cell_type": "code",
   "execution_count": 7,
   "id": "8ca8b32f",
   "metadata": {},
   "outputs": [
    {
     "name": "stdout",
     "output_type": "stream",
     "text": [
      "My dog Sammy is a Lab. She's a mammal.\n"
     ]
    }
   ],
   "source": [
    "my_dog = Dog('Lab', 'Sammy', False)\n",
    "print(f'My dog {my_dog.name} is a {my_dog.breed}. She\\'s a {my_dog.species}.')"
   ]
  },
  {
   "cell_type": "code",
   "execution_count": 3,
   "id": "26f9d576",
   "metadata": {},
   "outputs": [
    {
     "name": "stdout",
     "output_type": "stream",
     "text": [
      "My other dog's name is Sam. Spots: False \n"
     ]
    }
   ],
   "source": [
    "my_other_dog = Dog(breed = 'German Shepherd', name = \"Sam\", spots = False)\n",
    "print(f'My other dog\\'s name is {my_other_dog.name}. Spots: {my_other_dog.spots} ')"
   ]
  },
  {
   "cell_type": "code",
   "execution_count": 4,
   "id": "032a2b5f",
   "metadata": {},
   "outputs": [
    {
     "data": {
      "text/plain": [
       "'mammal'"
      ]
     },
     "execution_count": 4,
     "metadata": {},
     "output_type": "execute_result"
    }
   ],
   "source": [
    "Dog.species"
   ]
  },
  {
   "cell_type": "code",
   "execution_count": 8,
   "id": "7bff0e05",
   "metadata": {},
   "outputs": [
    {
     "name": "stdout",
     "output_type": "stream",
     "text": [
      "WOOF! My name is Sammy. The number is 100\n"
     ]
    }
   ],
   "source": [
    "my_dog.bark(100)"
   ]
  },
  {
   "cell_type": "code",
   "execution_count": 16,
   "id": "8123deda",
   "metadata": {},
   "outputs": [],
   "source": [
    "import math\n",
    "class Circle():\n",
    "    \n",
    "    pi = math.pi\n",
    "    \n",
    "    def __init__(self, radius = 1):\n",
    "        self.radius = radius\n",
    "    \n",
    "    def perimeter(self):\n",
    "        return 2 * self.radius * Circle.pi\n",
    "    \n",
    "    def area(self):\n",
    "        return Circle.pi * (self.radius ** 2)"
   ]
  },
  {
   "cell_type": "code",
   "execution_count": 23,
   "id": "4b60cf63",
   "metadata": {},
   "outputs": [
    {
     "name": "stdout",
     "output_type": "stream",
     "text": [
      "radius=3, perimeter=18.84955592153876, area=28.274333882308138\n"
     ]
    }
   ],
   "source": [
    "circle1 = Circle(3)\n",
    "print(f'radius={circle1.radius}, perimeter={circle1.perimeter()}, area={circle1.area()}')"
   ]
  },
  {
   "cell_type": "markdown",
   "id": "a18a996a",
   "metadata": {},
   "source": [
    "# Inheritance"
   ]
  },
  {
   "cell_type": "code",
   "execution_count": 53,
   "id": "f8241095",
   "metadata": {},
   "outputs": [],
   "source": [
    "class Animal():\n",
    "    \n",
    "    def __init__(self):\n",
    "        print('Animal created')\n",
    "        \n",
    "    def who_am_i(self):\n",
    "        print('I am an animal')\n",
    "    \n",
    "    def eat(self):\n",
    "        print('I am eating')\n",
    "    \n",
    "    def speak(self):\n",
    "        raise NotImplementedError()"
   ]
  },
  {
   "cell_type": "code",
   "execution_count": 54,
   "id": "99f91157",
   "metadata": {},
   "outputs": [
    {
     "name": "stdout",
     "output_type": "stream",
     "text": [
      "Animal created\n"
     ]
    }
   ],
   "source": [
    "animal = Animal()"
   ]
  },
  {
   "cell_type": "code",
   "execution_count": 55,
   "id": "7a83e805",
   "metadata": {},
   "outputs": [
    {
     "ename": "NotImplementedError",
     "evalue": "",
     "output_type": "error",
     "traceback": [
      "\u001b[0;31m---------------------------------------------------------------------------\u001b[0m",
      "\u001b[0;31mNotImplementedError\u001b[0m                       Traceback (most recent call last)",
      "\u001b[0;32m/var/folders/ng/_w_wpz3n2kvfvd9sl3pjhdph0000gp/T/ipykernel_10516/3553675796.py\u001b[0m in \u001b[0;36m<module>\u001b[0;34m\u001b[0m\n\u001b[0;32m----> 1\u001b[0;31m \u001b[0manimal\u001b[0m\u001b[0;34m.\u001b[0m\u001b[0mspeak\u001b[0m\u001b[0;34m(\u001b[0m\u001b[0;34m)\u001b[0m\u001b[0;34m\u001b[0m\u001b[0;34m\u001b[0m\u001b[0m\n\u001b[0m",
      "\u001b[0;32m/var/folders/ng/_w_wpz3n2kvfvd9sl3pjhdph0000gp/T/ipykernel_10516/169341630.py\u001b[0m in \u001b[0;36mspeak\u001b[0;34m(self)\u001b[0m\n\u001b[1;32m     11\u001b[0m \u001b[0;34m\u001b[0m\u001b[0m\n\u001b[1;32m     12\u001b[0m     \u001b[0;32mdef\u001b[0m \u001b[0mspeak\u001b[0m\u001b[0;34m(\u001b[0m\u001b[0mself\u001b[0m\u001b[0;34m)\u001b[0m\u001b[0;34m:\u001b[0m\u001b[0;34m\u001b[0m\u001b[0;34m\u001b[0m\u001b[0m\n\u001b[0;32m---> 13\u001b[0;31m         \u001b[0;32mraise\u001b[0m \u001b[0mNotImplementedError\u001b[0m\u001b[0;34m(\u001b[0m\u001b[0;34m)\u001b[0m\u001b[0;34m\u001b[0m\u001b[0;34m\u001b[0m\u001b[0m\n\u001b[0m",
      "\u001b[0;31mNotImplementedError\u001b[0m: "
     ]
    }
   ],
   "source": [
    "animal.speak()"
   ]
  },
  {
   "cell_type": "code",
   "execution_count": 56,
   "id": "22352d47",
   "metadata": {},
   "outputs": [
    {
     "name": "stdout",
     "output_type": "stream",
     "text": [
      "I am an animal\n"
     ]
    }
   ],
   "source": [
    "animal.who_am_i()"
   ]
  },
  {
   "cell_type": "code",
   "execution_count": 57,
   "id": "32455264",
   "metadata": {},
   "outputs": [],
   "source": [
    "class Dog(Animal):\n",
    "    \n",
    "    def __init__(self):\n",
    "        Animal.__init__(self)\n",
    "        print('Dog created')\n",
    "    \n",
    "    def who_am_i(self):\n",
    "        print('I am a dog')\n",
    "        \n",
    "    def speak(self):\n",
    "        print('WOOF!')"
   ]
  },
  {
   "cell_type": "code",
   "execution_count": 58,
   "id": "97710efb",
   "metadata": {},
   "outputs": [
    {
     "name": "stdout",
     "output_type": "stream",
     "text": [
      "Animal created\n",
      "Dog created\n"
     ]
    }
   ],
   "source": [
    "dog = Dog()"
   ]
  },
  {
   "cell_type": "code",
   "execution_count": 59,
   "id": "67381e17",
   "metadata": {},
   "outputs": [
    {
     "name": "stdout",
     "output_type": "stream",
     "text": [
      "I am a dog\n"
     ]
    }
   ],
   "source": [
    "dog.who_am_i()"
   ]
  },
  {
   "cell_type": "markdown",
   "id": "a3e8d3c0",
   "metadata": {},
   "source": [
    "# Polymorphism"
   ]
  },
  {
   "cell_type": "code",
   "execution_count": 61,
   "id": "e0de0e90",
   "metadata": {},
   "outputs": [],
   "source": [
    "class Cat(Animal):\n",
    "    \n",
    "    def __init__(self):\n",
    "        Animal.__init__(self)\n",
    "        print('Cat created')\n",
    "    \n",
    "    def who_am_i(self):\n",
    "        print('I am a cat')\n",
    "        \n",
    "    def speak(self):\n",
    "        print('MEOW!')"
   ]
  },
  {
   "cell_type": "code",
   "execution_count": 62,
   "id": "ce3b2be3",
   "metadata": {},
   "outputs": [
    {
     "name": "stdout",
     "output_type": "stream",
     "text": [
      "Animal created\n",
      "Dog created\n",
      "Animal created\n",
      "Cat created\n"
     ]
    }
   ],
   "source": [
    "animals = [Dog(), Cat()]"
   ]
  },
  {
   "cell_type": "code",
   "execution_count": 63,
   "id": "ba71a704",
   "metadata": {},
   "outputs": [
    {
     "name": "stdout",
     "output_type": "stream",
     "text": [
      "WOOF!\n",
      "MEOW!\n"
     ]
    }
   ],
   "source": [
    "for animal in animals:\n",
    "    animal.speak()"
   ]
  },
  {
   "cell_type": "code",
   "execution_count": 64,
   "id": "b9ad3d54",
   "metadata": {},
   "outputs": [],
   "source": [
    "def animal_speak(animal):\n",
    "    animal.speak()"
   ]
  },
  {
   "cell_type": "code",
   "execution_count": 65,
   "id": "83bfaf00",
   "metadata": {},
   "outputs": [
    {
     "name": "stdout",
     "output_type": "stream",
     "text": [
      "WOOF!\n",
      "MEOW!\n"
     ]
    }
   ],
   "source": [
    "for animal in animals:\n",
    "    animal_speak(animal)"
   ]
  },
  {
   "cell_type": "markdown",
   "id": "096cb6f1",
   "metadata": {},
   "source": [
    "# Special Methods"
   ]
  },
  {
   "cell_type": "code",
   "execution_count": 80,
   "id": "6fb5f171",
   "metadata": {},
   "outputs": [],
   "source": [
    "class Book():\n",
    "    def __init__(self, title, author, pages):\n",
    "        self.title = title\n",
    "        self.author = author\n",
    "        self.pages = pages\n",
    "    \n",
    "    def __str__(self):\n",
    "        return f\"\\\"{self.title}\\\" by {self.author}\"\n",
    "    \n",
    "    def __len__(self):\n",
    "        return self.pages\n",
    "    \n",
    "    def __del__(self):\n",
    "        print(f\"Delete book {self.title}\")"
   ]
  },
  {
   "cell_type": "code",
   "execution_count": 81,
   "id": "dabf1aa1",
   "metadata": {},
   "outputs": [
    {
     "name": "stdout",
     "output_type": "stream",
     "text": [
      "\"Alice's Adventures in Wonderland\" by Lewis Carroll\n"
     ]
    }
   ],
   "source": [
    "book = Book(\"Alice's Adventures in Wonderland\", \"Lewis Carroll\", 136)\n",
    "print(book)"
   ]
  },
  {
   "cell_type": "code",
   "execution_count": 82,
   "id": "d7a2f867",
   "metadata": {},
   "outputs": [
    {
     "data": {
      "text/plain": [
       "136"
      ]
     },
     "execution_count": 82,
     "metadata": {},
     "output_type": "execute_result"
    }
   ],
   "source": [
    "len(book)"
   ]
  },
  {
   "cell_type": "markdown",
   "id": "d10971b4",
   "metadata": {},
   "source": [
    "## Delete an object"
   ]
  },
  {
   "cell_type": "code",
   "execution_count": 83,
   "id": "5a560524",
   "metadata": {},
   "outputs": [
    {
     "name": "stdout",
     "output_type": "stream",
     "text": [
      "Delete book Alice's Adventures in Wonderland\n"
     ]
    }
   ],
   "source": [
    "del book"
   ]
  },
  {
   "cell_type": "code",
   "execution_count": 84,
   "id": "54882222",
   "metadata": {},
   "outputs": [
    {
     "ename": "NameError",
     "evalue": "name 'book' is not defined",
     "output_type": "error",
     "traceback": [
      "\u001b[0;31m---------------------------------------------------------------------------\u001b[0m",
      "\u001b[0;31mNameError\u001b[0m                                 Traceback (most recent call last)",
      "\u001b[0;32m/var/folders/ng/_w_wpz3n2kvfvd9sl3pjhdph0000gp/T/ipykernel_10516/4190142187.py\u001b[0m in \u001b[0;36m<module>\u001b[0;34m\u001b[0m\n\u001b[0;32m----> 1\u001b[0;31m \u001b[0mbook\u001b[0m\u001b[0;34m\u001b[0m\u001b[0;34m\u001b[0m\u001b[0m\n\u001b[0m",
      "\u001b[0;31mNameError\u001b[0m: name 'book' is not defined"
     ]
    }
   ],
   "source": [
    "book"
   ]
  },
  {
   "cell_type": "code",
   "execution_count": null,
   "id": "aa54dcca",
   "metadata": {},
   "outputs": [],
   "source": []
  }
 ],
 "metadata": {
  "kernelspec": {
   "display_name": "Python 3 (ipykernel)",
   "language": "python",
   "name": "python3"
  },
  "language_info": {
   "codemirror_mode": {
    "name": "ipython",
    "version": 3
   },
   "file_extension": ".py",
   "mimetype": "text/x-python",
   "name": "python",
   "nbconvert_exporter": "python",
   "pygments_lexer": "ipython3",
   "version": "3.9.13"
  }
 },
 "nbformat": 4,
 "nbformat_minor": 5
}
