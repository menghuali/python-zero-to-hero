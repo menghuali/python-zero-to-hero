{
 "cells": [
  {
   "cell_type": "markdown",
   "id": "d9a4ceff",
   "metadata": {},
   "source": [
    "# if-elif-else"
   ]
  },
  {
   "cell_type": "code",
   "execution_count": 1,
   "id": "090b3bd1",
   "metadata": {},
   "outputs": [],
   "source": [
    "a = 22"
   ]
  },
  {
   "cell_type": "code",
   "execution_count": 2,
   "id": "4b217ca4",
   "metadata": {},
   "outputs": [
    {
     "name": "stdout",
     "output_type": "stream",
     "text": [
      "Between 20 and 30\n"
     ]
    }
   ],
   "source": [
    "if a < 10:\n",
    "    print('Less than 10')\n",
    "elif 10 <= a < 20:\n",
    "    print('Between 10 and 20')\n",
    "elif 20 <= a < 30:\n",
    "    print('Between 20 and 30')\n",
    "else:\n",
    "    print('Equal to or greater than 30')"
   ]
  },
  {
   "cell_type": "markdown",
   "id": "046894ac",
   "metadata": {},
   "source": [
    "# Loop"
   ]
  },
  {
   "cell_type": "code",
   "execution_count": 3,
   "id": "1b34b354",
   "metadata": {},
   "outputs": [],
   "source": [
    "list1 = [1, 2, 3, 4, 5, 6, 7, 8, 9, 10]"
   ]
  },
  {
   "cell_type": "code",
   "execution_count": 4,
   "id": "c9100da2",
   "metadata": {},
   "outputs": [
    {
     "name": "stdout",
     "output_type": "stream",
     "text": [
      "Item: 1\n",
      "Item: 2\n",
      "Item: 3\n",
      "Item: 4\n",
      "Item: 5\n",
      "Item: 6\n",
      "Item: 7\n",
      "Item: 8\n",
      "Item: 9\n",
      "Item: 10\n"
     ]
    }
   ],
   "source": [
    "for num in list1:\n",
    "    print(f'Item: {num}')"
   ]
  },
  {
   "cell_type": "code",
   "execution_count": 5,
   "id": "a3b03aec",
   "metadata": {},
   "outputs": [],
   "source": [
    "tup = (1, 2, 3)"
   ]
  },
  {
   "cell_type": "code",
   "execution_count": 6,
   "id": "89115d1d",
   "metadata": {},
   "outputs": [
    {
     "name": "stdout",
     "output_type": "stream",
     "text": [
      "Item: 1\n",
      "Item: 2\n",
      "Item: 3\n"
     ]
    }
   ],
   "source": [
    "for num in tup:\n",
    "    print(f'Item: {num}')"
   ]
  },
  {
   "cell_type": "code",
   "execution_count": 7,
   "id": "9813697d",
   "metadata": {},
   "outputs": [
    {
     "name": "stdout",
     "output_type": "stream",
     "text": [
      "(1, 2)\n",
      "(3, 4)\n",
      "(5, 6)\n"
     ]
    }
   ],
   "source": [
    "list2 = [(1,2),(3,4),(5,6)]\n",
    "for item in list2:\n",
    "    print(item)"
   ]
  },
  {
   "cell_type": "markdown",
   "id": "f482d63d",
   "metadata": {},
   "source": [
    "### Tuple unpacking"
   ]
  },
  {
   "cell_type": "code",
   "execution_count": 8,
   "id": "da964738",
   "metadata": {},
   "outputs": [
    {
     "name": "stdout",
     "output_type": "stream",
     "text": [
      "1\n",
      "2\n",
      "3\n",
      "4\n",
      "5\n",
      "6\n"
     ]
    }
   ],
   "source": [
    "for a,b in list2:\n",
    "    print(a)\n",
    "    print(b)"
   ]
  },
  {
   "cell_type": "markdown",
   "id": "6b0f4949",
   "metadata": {},
   "source": [
    "### Loop Dictionary"
   ]
  },
  {
   "cell_type": "code",
   "execution_count": 9,
   "id": "beb3c522",
   "metadata": {},
   "outputs": [],
   "source": [
    "d = {'k1':1, 'k2':2, 'k3':3}"
   ]
  },
  {
   "cell_type": "code",
   "execution_count": 10,
   "id": "0bf1f3e2",
   "metadata": {},
   "outputs": [
    {
     "name": "stdout",
     "output_type": "stream",
     "text": [
      "k1\n",
      "k2\n",
      "k3\n"
     ]
    }
   ],
   "source": [
    "for kv in d:\n",
    "    print(kv)"
   ]
  },
  {
   "cell_type": "code",
   "execution_count": 11,
   "id": "250bb369",
   "metadata": {},
   "outputs": [
    {
     "name": "stdout",
     "output_type": "stream",
     "text": [
      "1\n",
      "2\n",
      "3\n"
     ]
    }
   ],
   "source": [
    "for v in d.values():\n",
    "    print(v)"
   ]
  },
  {
   "cell_type": "code",
   "execution_count": 12,
   "id": "b54a06c4",
   "metadata": {
    "scrolled": true
   },
   "outputs": [
    {
     "name": "stdout",
     "output_type": "stream",
     "text": [
      "key: k1, value:1\n",
      "key: k2, value:2\n",
      "key: k3, value:3\n"
     ]
    }
   ],
   "source": [
    "for k,v in d.items():\n",
    "    print(f'key: {k}, value:{v}')"
   ]
  },
  {
   "cell_type": "markdown",
   "id": "3f2ec338",
   "metadata": {},
   "source": [
    "# While"
   ]
  },
  {
   "cell_type": "code",
   "execution_count": 1,
   "id": "66ce5be8",
   "metadata": {},
   "outputs": [
    {
     "name": "stdout",
     "output_type": "stream",
     "text": [
      "Current value: 0\n",
      "Current value: 1\n",
      "Current value: 2\n",
      "Current value: 3\n",
      "Current value: 4\n",
      "x is not less than 5\n"
     ]
    }
   ],
   "source": [
    "x = 0\n",
    "\n",
    "while x < 5:\n",
    "    print(f'Current value: {x}')\n",
    "    x += 1;\n",
    "else:\n",
    "    print('x is not less than 5')"
   ]
  },
  {
   "cell_type": "markdown",
   "id": "7e75ff49",
   "metadata": {},
   "source": [
    "### break, continue, pass"
   ]
  },
  {
   "cell_type": "code",
   "execution_count": 10,
   "id": "d51bdd7f",
   "metadata": {},
   "outputs": [
    {
     "name": "stdout",
     "output_type": "stream",
     "text": [
      "Oops, still reaches here!\n",
      "Oops, still reaches here!\n",
      "Oops, still reaches here!\n"
     ]
    }
   ],
   "source": [
    "x = [1,2,3]\n",
    "\n",
    "for num in x:\n",
    "    pass\n",
    "    print('Oops, still reaches here!')"
   ]
  },
  {
   "cell_type": "code",
   "execution_count": 9,
   "id": "c72aa36c",
   "metadata": {},
   "outputs": [
    {
     "name": "stdout",
     "output_type": "stream",
     "text": [
      "Still loop!\n",
      "Still loop!\n",
      "Still loop!\n"
     ]
    }
   ],
   "source": [
    "x = [1,2,3]\n",
    "\n",
    "for num in x:\n",
    "    print('Still loop!')\n",
    "    continue\n",
    "    print('But never reaches here!')"
   ]
  },
  {
   "cell_type": "code",
   "execution_count": null,
   "id": "99e8b841",
   "metadata": {},
   "outputs": [],
   "source": []
  }
 ],
 "metadata": {
  "kernelspec": {
   "display_name": "Python 3 (ipykernel)",
   "language": "python",
   "name": "python3"
  },
  "language_info": {
   "codemirror_mode": {
    "name": "ipython",
    "version": 3
   },
   "file_extension": ".py",
   "mimetype": "text/x-python",
   "name": "python",
   "nbconvert_exporter": "python",
   "pygments_lexer": "ipython3",
   "version": "3.9.13"
  }
 },
 "nbformat": 4,
 "nbformat_minor": 5
}
