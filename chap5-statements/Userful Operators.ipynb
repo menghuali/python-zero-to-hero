{
 "cells": [
  {
   "cell_type": "markdown",
   "id": "f0a52639",
   "metadata": {},
   "source": [
    "# Range"
   ]
  },
  {
   "cell_type": "code",
   "execution_count": 1,
   "id": "0b981b27",
   "metadata": {},
   "outputs": [
    {
     "name": "stdout",
     "output_type": "stream",
     "text": [
      "0\n",
      "1\n",
      "2\n",
      "3\n",
      "4\n",
      "5\n",
      "6\n",
      "7\n",
      "8\n",
      "9\n"
     ]
    }
   ],
   "source": [
    "for num in range(10):\n",
    "    print(num)"
   ]
  },
  {
   "cell_type": "code",
   "execution_count": 4,
   "id": "c1acd722",
   "metadata": {},
   "outputs": [
    {
     "name": "stdout",
     "output_type": "stream",
     "text": [
      "3\n",
      "4\n",
      "5\n",
      "6\n",
      "7\n",
      "8\n",
      "9\n"
     ]
    }
   ],
   "source": [
    "for num in range(3, 10):\n",
    "    print(num)"
   ]
  },
  {
   "cell_type": "markdown",
   "id": "da4641ff",
   "metadata": {},
   "source": [
    "## Range with step size"
   ]
  },
  {
   "cell_type": "code",
   "execution_count": 5,
   "id": "18e332c1",
   "metadata": {},
   "outputs": [
    {
     "name": "stdout",
     "output_type": "stream",
     "text": [
      "0\n",
      "2\n",
      "4\n",
      "6\n",
      "8\n"
     ]
    }
   ],
   "source": [
    "for num in range(0,10,2):\n",
    "    print(num)"
   ]
  },
  {
   "cell_type": "markdown",
   "id": "81dc89da",
   "metadata": {},
   "source": [
    "## Range is a generator, but you can cast it into a list"
   ]
  },
  {
   "cell_type": "code",
   "execution_count": 6,
   "id": "0e2fe552",
   "metadata": {},
   "outputs": [
    {
     "data": {
      "text/plain": [
       "range(0, 10)"
      ]
     },
     "execution_count": 6,
     "metadata": {},
     "output_type": "execute_result"
    }
   ],
   "source": [
    "range(0,10)"
   ]
  },
  {
   "cell_type": "code",
   "execution_count": 7,
   "id": "2bbe3ca1",
   "metadata": {},
   "outputs": [
    {
     "data": {
      "text/plain": [
       "[0, 1, 2, 3, 4, 5, 6, 7, 8, 9]"
      ]
     },
     "execution_count": 7,
     "metadata": {},
     "output_type": "execute_result"
    }
   ],
   "source": [
    "list(range(0,10))"
   ]
  },
  {
   "cell_type": "markdown",
   "id": "1ce89547",
   "metadata": {},
   "source": [
    "# Enumerate"
   ]
  },
  {
   "cell_type": "code",
   "execution_count": 18,
   "id": "6fed244d",
   "metadata": {
    "scrolled": true
   },
   "outputs": [
    {
     "name": "stdout",
     "output_type": "stream",
     "text": [
      "Character 0: H\n",
      "Character 1: e\n",
      "Character 2: l\n",
      "Character 3: l\n",
      "Character 4: o\n"
     ]
    }
   ],
   "source": [
    "i = 0;\n",
    "word = 'Hello'\n",
    "for char in word:\n",
    "    print(f'Character {i}: {word[i]}')\n",
    "    i += 1"
   ]
  },
  {
   "cell_type": "code",
   "execution_count": 19,
   "id": "137ac32f",
   "metadata": {
    "scrolled": true
   },
   "outputs": [
    {
     "name": "stdout",
     "output_type": "stream",
     "text": [
      "(0, 'H')\n",
      "(1, 'e')\n",
      "(2, 'l')\n",
      "(3, 'l')\n",
      "(4, 'o')\n"
     ]
    }
   ],
   "source": [
    "word = 'Hello'\n",
    "for item in enumerate(word):\n",
    "    print(item)"
   ]
  },
  {
   "cell_type": "code",
   "execution_count": 20,
   "id": "94298df5",
   "metadata": {
    "scrolled": false
   },
   "outputs": [
    {
     "name": "stdout",
     "output_type": "stream",
     "text": [
      "Character 0: H\n",
      "Character 1: e\n",
      "Character 2: l\n",
      "Character 3: l\n",
      "Character 4: o\n"
     ]
    }
   ],
   "source": [
    "word = 'Hello'\n",
    "for item in enumerate(word):\n",
    "    print(f'Character {item[0]}: {item[1]}')"
   ]
  },
  {
   "cell_type": "code",
   "execution_count": 21,
   "id": "c7f335f4",
   "metadata": {
    "scrolled": false
   },
   "outputs": [
    {
     "name": "stdout",
     "output_type": "stream",
     "text": [
      "Character 0: H\n",
      "Character 1: e\n",
      "Character 2: l\n",
      "Character 3: l\n",
      "Character 4: o\n"
     ]
    }
   ],
   "source": [
    "word = 'Hello'\n",
    "for i,char in enumerate(word):\n",
    "    print(f'Character {i}: {char}')"
   ]
  },
  {
   "cell_type": "markdown",
   "id": "e04f9e69",
   "metadata": {},
   "source": [
    "# Zip"
   ]
  },
  {
   "cell_type": "code",
   "execution_count": 30,
   "id": "ae7a2af0",
   "metadata": {},
   "outputs": [
    {
     "name": "stdout",
     "output_type": "stream",
     "text": [
      "(1, 'a', '+')\n",
      "(2, 'b', '-')\n",
      "(3, 'c', '*')\n"
     ]
    }
   ],
   "source": [
    "for item in zip([1,2,3,4,5], ['a','b','c'], ['+','-','*']):\n",
    "    print(item)"
   ]
  },
  {
   "cell_type": "code",
   "execution_count": 31,
   "id": "02629736",
   "metadata": {},
   "outputs": [
    {
     "data": {
      "text/plain": [
       "[(1, 'a'), (2, 'b'), (3, 'c')]"
      ]
     },
     "execution_count": 31,
     "metadata": {},
     "output_type": "execute_result"
    }
   ],
   "source": [
    "list(zip([1,2,3,4,5], ['a','b','c']))"
   ]
  },
  {
   "cell_type": "markdown",
   "id": "071237bb",
   "metadata": {},
   "source": [
    "# In"
   ]
  },
  {
   "cell_type": "code",
   "execution_count": 32,
   "id": "4cba2010",
   "metadata": {},
   "outputs": [
    {
     "data": {
      "text/plain": [
       "False"
      ]
     },
     "execution_count": 32,
     "metadata": {},
     "output_type": "execute_result"
    }
   ],
   "source": [
    "'x' in [1,2,3]"
   ]
  },
  {
   "cell_type": "code",
   "execution_count": 33,
   "id": "fa7ba997",
   "metadata": {},
   "outputs": [
    {
     "data": {
      "text/plain": [
       "True"
      ]
     },
     "execution_count": 33,
     "metadata": {},
     "output_type": "execute_result"
    }
   ],
   "source": [
    "1 in [1,2,3]"
   ]
  },
  {
   "cell_type": "code",
   "execution_count": 34,
   "id": "9f1bf952",
   "metadata": {},
   "outputs": [
    {
     "data": {
      "text/plain": [
       "True"
      ]
     },
     "execution_count": 34,
     "metadata": {},
     "output_type": "execute_result"
    }
   ],
   "source": [
    "'e' in 'Hello'"
   ]
  },
  {
   "cell_type": "code",
   "execution_count": 40,
   "id": "f3d8468b",
   "metadata": {},
   "outputs": [
    {
     "data": {
      "text/plain": [
       "True"
      ]
     },
     "execution_count": 40,
     "metadata": {},
     "output_type": "execute_result"
    }
   ],
   "source": [
    "d = {'k1':'v1', 'k2':'v2', 'k3':'v3'}\n",
    "'k1'in d and 'v3' in d.values() and ('k1','v1') in d.items()"
   ]
  },
  {
   "cell_type": "markdown",
   "id": "ce3e8b5e",
   "metadata": {},
   "source": [
    "# Min & Max"
   ]
  },
  {
   "cell_type": "code",
   "execution_count": 42,
   "id": "9c111a0c",
   "metadata": {},
   "outputs": [
    {
     "name": "stdout",
     "output_type": "stream",
     "text": [
      "min=1, max=97\n"
     ]
    }
   ],
   "source": [
    "nums = list(range(1,100,3))\n",
    "print(f'min={min(nums)}, max={max(nums)}')"
   ]
  },
  {
   "cell_type": "markdown",
   "id": "2d4a29f8",
   "metadata": {},
   "source": [
    "# Random"
   ]
  },
  {
   "cell_type": "markdown",
   "id": "83575429",
   "metadata": {},
   "source": [
    "## shuffule"
   ]
  },
  {
   "cell_type": "code",
   "execution_count": 44,
   "id": "ca02fd46",
   "metadata": {},
   "outputs": [
    {
     "name": "stdout",
     "output_type": "stream",
     "text": [
      "None\n",
      "[8, 5, 16, 18, 15, 14, 12, 4, 10, 2, 19, 3, 7, 11, 1, 13, 6, 17, 9]\n"
     ]
    }
   ],
   "source": [
    "from random import shuffle\n",
    "\n",
    "nums = list(range(1,20))\n",
    "shuffled = shuffle(nums)\n",
    "\n",
    "# Shuffle will not return anything\n",
    "print(shuffled)\n",
    "# Shuffle shuffles the input list\n",
    "print(nums)"
   ]
  },
  {
   "cell_type": "markdown",
   "id": "f3a55bfb",
   "metadata": {},
   "source": [
    "## randomint"
   ]
  },
  {
   "cell_type": "code",
   "execution_count": 50,
   "id": "006ddde1",
   "metadata": {},
   "outputs": [
    {
     "name": "stdout",
     "output_type": "stream",
     "text": [
      "[40, 70, 14, 52, 95, 13, 87, 58, 57, 88]\n"
     ]
    }
   ],
   "source": [
    "from random import randint\n",
    "\n",
    "nums = []\n",
    "count = 0\n",
    "while count < 10:\n",
    "    nums.append(randint(0,100))\n",
    "    count += 1\n",
    "\n",
    "print(nums)"
   ]
  },
  {
   "cell_type": "markdown",
   "id": "2808d5d5",
   "metadata": {},
   "source": [
    "# Input"
   ]
  },
  {
   "cell_type": "code",
   "execution_count": 51,
   "id": "c6cd63e7",
   "metadata": {},
   "outputs": [
    {
     "name": "stdout",
     "output_type": "stream",
     "text": [
      "Enter your name here: Michael\n",
      "Hello, Michael!\n"
     ]
    }
   ],
   "source": [
    "name = input('Enter your name: ')\n",
    "print(f'Hello, {name}!')"
   ]
  },
  {
   "cell_type": "code",
   "execution_count": 56,
   "id": "7c2af17e",
   "metadata": {},
   "outputs": [
    {
     "name": "stdout",
     "output_type": "stream",
     "text": [
      "Enter your number: 33\n",
      "Input type: <class 'str'>\n",
      "Sqart of input: 1089.0\n"
     ]
    }
   ],
   "source": [
    "num = input('Enter your number: ')\n",
    "print(f'Input type: {type(num)}')\n",
    "print(f'Sqart of input: {float(num) ** 2}')"
   ]
  }
 ],
 "metadata": {
  "kernelspec": {
   "display_name": "Python 3 (ipykernel)",
   "language": "python",
   "name": "python3"
  },
  "language_info": {
   "codemirror_mode": {
    "name": "ipython",
    "version": 3
   },
   "file_extension": ".py",
   "mimetype": "text/x-python",
   "name": "python",
   "nbconvert_exporter": "python",
   "pygments_lexer": "ipython3",
   "version": "3.9.13"
  }
 },
 "nbformat": 4,
 "nbformat_minor": 5
}
